{
  "metadata": {
    "language_info": {
      "codemirror_mode": {
        "name": "python",
        "version": 3
      },
      "file_extension": ".py",
      "mimetype": "text/x-python",
      "name": "python",
      "nbconvert_exporter": "python",
      "pygments_lexer": "ipython3",
      "version": "3.8"
    },
    "kernelspec": {
      "name": "python",
      "display_name": "Python (Pyodide)",
      "language": "python"
    }
  },
  "nbformat_minor": 4,
  "nbformat": 4,
  "cells": [
    {
      "cell_type": "code",
      "source": "# Activity 1\n# Definition de la variable monthly_savings avec une valeur de 100 euros par mois\nmonthly_savings = 100\n\n# Définition de la variable num_months avec une valeur de 12 (nombre de mois dans une année)\nnum_months = 12\n\n# Définition de la variable intro avec une chaîne de caractères \"How are you?\"\nintro = \"How are you?\"\n\n# Calcul de year_savings en multipliant monthly_savings par num_months\nyear_savings = monthly_savings * num_months\n# Affichage de year_savings\nprint(year_savings)\n\n# Affichage du type de year_savings\nprint(\"Type de year_saving:\", type(year_savings))\n\n# Concaténation de intro avec elle-même et stockage dans la variable doubleintro\ndoubleintro = intro + intro\n\n# Affichage de doubleintro\nprint(\"doubleintro:\", doubleintro)\n\n# Correction de l'affichage en concaténant intro, un espace, et doubleintro\nSum_of_intro = intro + \" \" + doubleintro\nprint(Sum_of_intro)\n\n# Calcul de l'économie annuelle après avoir retiré 150 euros\nyear_savings_after_withdrawal = (monthly_savings * num_months) - 150\nprint(year_savings_after_withdrawal)\n\n# Calcul de l'économie sur 100 mois avec une expression exponentielle\nreponse8 = monthly_savings ** 100\nprint(reponse8)\n\n# Définition de la hauteur (en centimètres)\nheight = 175\n\n# Définition de la hauteur du chapeau (en centimètres)\nhat_height = 10\n\n# Calcul de la taille avec un chapeau en ajoutant height et hat_height, puis en divisant par 100\ntall_with_hat = (height + hat_height) / 100\n\n# Affichage de la phrase complète\nprint(\"Je mesure\", tall_with_hat, \"mètres quand je porte mon chapeau\")\n\n# Ajout d'une docstring pour expliquer la fonction\ndef calculate_tall_with_hat(height, hat_height):\n    \"\"\"\n    Calcule la taille avec un chapeau en ajoutant la hauteur et la hauteur du chapeau, puis en divisant par 100.\n\n    Parameters:\n    height (float): La hauteur de la personne en centimètres.\n    hat_height (float): La hauteur du chapeau en centimètres.\n\n    Returns:\n    float: La taille totale avec un chapeau en mètres.\n    \"\"\"\n    tall_with_hat = (height + hat_height) / 100\n    return tall_with_hat\n\n# Utilisation de la fonction help pour obtenir des informations sur la fonction\nhelp(calculate_tall_with_hat)\n\n# Activity 2\n\n# Définition d'une fonction euro_dollars qui convertit l'euro en dollars\ndef euro_dollars(amount_euros):\n    \"\"\"\n    Convertit une quantité d'euros en dollars en utilisant le taux de change actuel.\n\n    Parameters:\n    amount_euros (float): Montant en euros.\n\n    Returns:\n    float: Montant équivalent en dollars.\n    \"\"\"\n    final_amount = amount_euros * 1.06\n    return final_amount\n\n# Tests avec différentes quantités en euros\nprint(euro_dollars(amount_euros=1))\nprint(euro_dollars(3.5))\nprint(euro_dollars(amount_euros=10))\n\n# Définition d'une fonction dollars_euro qui convertit les dollars en euros\ndef dollars_euro(dollar):\n    \"\"\"\n    Convertit une quantité de dollars en euros en utilisant le taux de change actuel.\n\n    Parameters:\n    dollar (float): Montant en dollars.\n\n    Returns:\n    float: Montant équivalent en euros.\n    \"\"\"\n    return dollar * 0.84\n\n# Tests avec différentes quantités en dollars\ndollars_euro(1)\ndollars_euro(3.5)\ndollars_euro(10)\n\n# Fonction qui bascule entre les fonctions euro_dollars et dollars_euro en fonction de la devise à convertir\ndef convert_euro_dollar(amount, is_dollar=True):\n    \"\"\"\n    Convertit une quantité d'une devise en une autre.\n\n    Parameters:\n    amount (float): Montant à convertir.\n    is_dollar (bool): True si la devise d'origine est le dollar, False si c'est l'euro.\n\n    Returns:\n    float: Montant converti.\n    \"\"\"\n    if is_dollar:\n        res = dollars_euro(amount)\n    else:\n        res = euro_dollars(amount)\n    return res\n\n#Activity 2\n# Definition of a function euro_dollars that converts euros to dollars\ndef euro_dollars(amount_euros):\n    \"\"\"\n    Converts an amount of euros to dollars using the current exchange rate.\n\n    Parameters:\n    amount_euros (float): Amount in euros.\n\n    Returns:\n    float: Equivalent amount in dollars.\n    \"\"\"\n    final_amount = amount_euros * 1.06\n    return final_amount\n\n# Tests with different amounts in euros\nprint(euro_dollars(amount_euros=1))\nprint(euro_dollars(3.5))\nprint(euro_dollars(amount_euros=10))\n\n# Definition of a function dollars_euro that converts dollars to euros\ndef dollars_euro(dollar):\n    \"\"\"\n    Converts an amount of dollars to euros using the current exchange rate.\n\n    Parameters:\n    dollar (float): Amount in dollars.\n\n    Returns:\n    float: Equivalent amount in euros.\n    \"\"\"\n    return dollar * 0.84\n\n# Tests with different amounts in dollars\ndollars_euro(1)\ndollars_euro(3.5)\ndollars_euro(10)\n\n# Function that switches between the euro_dollars and dollars_euro functions depending on the currency to convert\ndef convert_euro_dollar(amount, is_dollar=True):\n    \"\"\"\n    Converts an amount from one currency to another.\n\n    Parameters:\n    amount (float): Amount to convert.\n    is_dollar (bool): True if the original currency is the dollar, False if it's the euro.\n\n    Returns:\n    float: Converted amount.\n    \"\"\"\n    if is_dollar:\n        res = dollars_euro(amount)\n    else:\n        res = euro_dollars(amount)\n    return res",
      "metadata": {},
      "execution_count": null,
      "outputs": []
    },
    {
      "cell_type": "code",
      "source": "",
      "metadata": {},
      "execution_count": null,
      "outputs": []
    }
  ]
}