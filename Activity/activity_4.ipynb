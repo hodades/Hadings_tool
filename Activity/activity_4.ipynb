{
  "nbformat": 4,
  "nbformat_minor": 0,
  "metadata": {
    "colab": {
      "provenance": []
    },
    "kernelspec": {
      "name": "python3",
      "display_name": "Python 3"
    },
    "language_info": {
      "name": "python"
    }
  },
  "cells": [
    {
      "cell_type": "markdown",
      "source": [
        "## Error handling\n",
        "\n",
        "The key word `try` allows you to test your script.\n",
        "Then if there is an error, you can handle the message or the action with `except`.\n",
        "You can precise the type of error after `except` but the action taken will just work on this type of error."
      ],
      "metadata": {
        "id": "b_oOCcmoTmei"
      }
    },
    {
      "cell_type": "code",
      "source": [
        "# Whitout error handling\n",
        "def purchased_but_not_subscribed(customers, newsletter_subscribers):\n",
        "  result = customers.difference(newsletter_subscribers)\n",
        "  return  result\n",
        "\n",
        "purchased_but_not_subscribed(customers=[1,2,3,4,4,5,4,57,], newsletter_subscribers=[1,2,4,6,7,8,8,32,536])"
      ],
      "metadata": {
        "colab": {
          "base_uri": "https://localhost:8080/",
          "height": 331
        },
        "id": "uBcX-o82TpgT",
        "outputId": "37f5cceb-1cb7-4517-8139-73e2c1417036"
      },
      "execution_count": null,
      "outputs": [
        {
          "output_type": "error",
          "ename": "AttributeError",
          "evalue": "ignored",
          "traceback": [
            "\u001b[0;31m---------------------------------------------------------------------------\u001b[0m",
            "\u001b[0;31mAttributeError\u001b[0m                            Traceback (most recent call last)",
            "\u001b[0;32m<ipython-input-1-df7907ac6cb1>\u001b[0m in \u001b[0;36m<cell line: 6>\u001b[0;34m()\u001b[0m\n\u001b[1;32m      4\u001b[0m   \u001b[0;32mreturn\u001b[0m  \u001b[0mresult\u001b[0m\u001b[0;34m\u001b[0m\u001b[0;34m\u001b[0m\u001b[0m\n\u001b[1;32m      5\u001b[0m \u001b[0;34m\u001b[0m\u001b[0m\n\u001b[0;32m----> 6\u001b[0;31m \u001b[0mpurchased_but_not_subscribed\u001b[0m\u001b[0;34m(\u001b[0m\u001b[0mcustomers\u001b[0m\u001b[0;34m=\u001b[0m\u001b[0;34m[\u001b[0m\u001b[0;36m1\u001b[0m\u001b[0;34m,\u001b[0m\u001b[0;36m2\u001b[0m\u001b[0;34m,\u001b[0m\u001b[0;36m3\u001b[0m\u001b[0;34m,\u001b[0m\u001b[0;36m4\u001b[0m\u001b[0;34m,\u001b[0m\u001b[0;36m4\u001b[0m\u001b[0;34m,\u001b[0m\u001b[0;36m5\u001b[0m\u001b[0;34m,\u001b[0m\u001b[0;36m4\u001b[0m\u001b[0;34m,\u001b[0m\u001b[0;36m57\u001b[0m\u001b[0;34m,\u001b[0m\u001b[0;34m]\u001b[0m\u001b[0;34m,\u001b[0m \u001b[0mnewsletter_subscribers\u001b[0m\u001b[0;34m=\u001b[0m\u001b[0;34m[\u001b[0m\u001b[0;36m1\u001b[0m\u001b[0;34m,\u001b[0m\u001b[0;36m2\u001b[0m\u001b[0;34m,\u001b[0m\u001b[0;36m4\u001b[0m\u001b[0;34m,\u001b[0m\u001b[0;36m6\u001b[0m\u001b[0;34m,\u001b[0m\u001b[0;36m7\u001b[0m\u001b[0;34m,\u001b[0m\u001b[0;36m8\u001b[0m\u001b[0;34m,\u001b[0m\u001b[0;36m8\u001b[0m\u001b[0;34m,\u001b[0m\u001b[0;36m32\u001b[0m\u001b[0;34m,\u001b[0m\u001b[0;36m536\u001b[0m\u001b[0;34m]\u001b[0m\u001b[0;34m)\u001b[0m\u001b[0;34m\u001b[0m\u001b[0;34m\u001b[0m\u001b[0m\n\u001b[0m",
            "\u001b[0;32m<ipython-input-1-df7907ac6cb1>\u001b[0m in \u001b[0;36mpurchased_but_not_subscribed\u001b[0;34m(customers, newsletter_subscribers)\u001b[0m\n\u001b[1;32m      1\u001b[0m \u001b[0;31m# Whitout error handling\u001b[0m\u001b[0;34m\u001b[0m\u001b[0;34m\u001b[0m\u001b[0m\n\u001b[1;32m      2\u001b[0m \u001b[0;32mdef\u001b[0m \u001b[0mpurchased_but_not_subscribed\u001b[0m\u001b[0;34m(\u001b[0m\u001b[0mcustomers\u001b[0m\u001b[0;34m,\u001b[0m \u001b[0mnewsletter_subscribers\u001b[0m\u001b[0;34m)\u001b[0m\u001b[0;34m:\u001b[0m\u001b[0;34m\u001b[0m\u001b[0;34m\u001b[0m\u001b[0m\n\u001b[0;32m----> 3\u001b[0;31m   \u001b[0mresult\u001b[0m \u001b[0;34m=\u001b[0m \u001b[0mcustomers\u001b[0m\u001b[0;34m.\u001b[0m\u001b[0mdifference\u001b[0m\u001b[0;34m(\u001b[0m\u001b[0mnewsletter_subscribers\u001b[0m\u001b[0;34m)\u001b[0m\u001b[0;34m\u001b[0m\u001b[0;34m\u001b[0m\u001b[0m\n\u001b[0m\u001b[1;32m      4\u001b[0m   \u001b[0;32mreturn\u001b[0m  \u001b[0mresult\u001b[0m\u001b[0;34m\u001b[0m\u001b[0;34m\u001b[0m\u001b[0m\n\u001b[1;32m      5\u001b[0m \u001b[0;34m\u001b[0m\u001b[0m\n",
            "\u001b[0;31mAttributeError\u001b[0m: 'list' object has no attribute 'difference'"
          ]
        }
      ]
    },
    {
      "cell_type": "code",
      "source": [
        "# With error handling\n",
        "def purchased_but_not_subscribed_error_handling(customers, newsletter_subscribers):\n",
        "  try: #let's check if the code will run properly\n",
        "    result = customers.difference(newsletter_subscribers)\n",
        "  except: # if it doesn't run as expected, write the following message\n",
        "    result = \"Check the data type\"\n",
        "  return  result\n",
        "purchased_but_not_subscribed_error_handling(customers=[1,2,3,4,4,5,4,57,], newsletter_subscribers=[1,2,4,6,7,8,8,32,536])"
      ],
      "metadata": {
        "colab": {
          "base_uri": "https://localhost:8080/",
          "height": 35
        },
        "id": "unKJfk8xTy4b",
        "outputId": "472c138a-e80b-429e-cda3-bd7291a7332e"
      },
      "execution_count": null,
      "outputs": [
        {
          "output_type": "execute_result",
          "data": {
            "text/plain": [
              "'Check the data type'"
            ],
            "application/vnd.google.colaboratory.intrinsic+json": {
              "type": "string"
            }
          },
          "metadata": {},
          "execution_count": 2
        }
      ]
    },
    {
      "cell_type": "markdown",
      "source": [
        "Library"
      ],
      "metadata": {
        "id": "7CqsQraNUQs4"
      }
    },
    {
      "cell_type": "code",
      "source": [
        "# Import the numpy library with the alias 'np'.\n",
        "import numpy as np\n",
        "\n",
        "# Import the 'array' and 'median' modules from numpy.\n",
        "from numpy import array, median\n",
        "\n",
        "# Import the pandas library with the alias 'pd'.\n",
        "import pandas as pd\n",
        "\n",
        "# The code above imports the numpy and pandas libraries,\n",
        "# allowing you to use their functionalities in the subsequent code.\n",
        "\n"
      ],
      "metadata": {
        "id": "t6UKyC6uT7b1"
      },
      "execution_count": null,
      "outputs": []
    },
    {
      "cell_type": "code",
      "source": [
        "# Create an array 'x' using the 'array' function from numpy.\n",
        "x = array([2, 3, 4, 5, 6, 67])\n",
        "\n",
        "# Check the data type of the variable 'x'.\n",
        "type(x)\n",
        "\n",
        "# Calculate the median of the list [2, 3, 4, 5, 6, 67] using the 'median' function from numpy.\n",
        "median([2, 3, 4, 5, 6, 67])\n"
      ],
      "metadata": {
        "id": "eKjdhf_-Usjd"
      },
      "execution_count": null,
      "outputs": []
    },
    {
      "cell_type": "markdown",
      "source": [
        "# Handle string like a list"
      ],
      "metadata": {
        "id": "rpurkAMLVndw"
      }
    },
    {
      "cell_type": "code",
      "source": [
        "# Assign the string \"Albert\" to the variable 'name'.\n",
        "name = \"Albert\"\n",
        "\n",
        "# Check and return the data type of the variable 'name'.\n",
        "type(name)\n",
        "\n",
        "# Extract and return the substring of 'name' from index 0 to 2 (inclusive of 0, exclusive of 3).\n",
        "name[0:3]\n"
      ],
      "metadata": {
        "id": "wKJQswQpVS4v"
      },
      "execution_count": null,
      "outputs": []
    },
    {
      "cell_type": "markdown",
      "source": [
        "# Tuple"
      ],
      "metadata": {
        "id": "bDaJPjrnWNi4"
      }
    },
    {
      "cell_type": "code",
      "source": [
        "# Define a tuple 'x' with elements 1 and 2.\n",
        "x = (1, 2)\n",
        "\n",
        "# Print the tuple 'x'.\n",
        "print(x)\n",
        "\n",
        "# Check and return the data type of the variable 'x', which is a tuple.\n",
        "type(x)\n",
        "\n",
        "# Access and return the element at index 0 of the tuple 'x', which is 1.\n",
        "x[0]\n",
        "\n",
        "# Access and return the element at index 1 of the tuple 'x', which is 2.\n",
        "x[1]\n",
        "\n",
        "# Define a tuple 'aire_rect' with various elements.\n",
        "aire_rect = (5, 10, 5, 5, 5, 5, True, \"coucou\")\n",
        "\n",
        "# Unpack the values of 'aire_rect' into variables 'l' and 'L' with respective values 5 and 10.\n",
        "l, L = (5, 10)\n",
        "\n",
        "# Print messages indicating the values of 'l' and 'L'.\n",
        "print(\"La longueur est\", L)\n",
        "print(\"La largeur est\", l)\n",
        "\n",
        "# Define a Python function 'double_val_dic' that takes a dictionary as input\n",
        "# and returns a new dictionary where all the values have been doubled.\n",
        "def double_val_dic(dico):\n",
        "    new_dict = {}\n",
        "    for dict_item in list(dico.items()):\n",
        "        new_dict[dict_item[0]] = 2 * dict_item[1]\n",
        "    return new_dict\n",
        "\n",
        "# Call the 'double_val_dic' function with a sample dictionary and double its values.\n",
        "double_val_dic({1: 1, 2: 2, 3: 3})\n",
        "\n",
        "# Find the index of the first occurrence of 'True' in the tuple 'aire_rect'.\n",
        "aire_rect.index(True)\n"
      ],
      "metadata": {
        "id": "7gW1eEXDV4W2"
      },
      "execution_count": null,
      "outputs": []
    },
    {
      "cell_type": "markdown",
      "source": [
        "# Set"
      ],
      "metadata": {
        "id": "5pV4zjrEZV1S"
      }
    },
    {
      "cell_type": "code",
      "source": [
        "# Create an empty set 's' using set() constructor.\n",
        "s = set()\n",
        "\n",
        "# Alternatively, create an empty set 's' using curly braces ({}).\n",
        "s = {}\n",
        "\n",
        "# Create a set 's1' containing elements 2, 4, and 5.\n",
        "s1 = {2, 4, 5}\n",
        "\n",
        "# Create another set 's2' containing elements 2, 6, and 9.\n",
        "s2 = {2, 6, 9}\n",
        "\n",
        "# Create a list 'l' containing repeated elements 2, 2, 2, 2, 4, and 5.\n",
        "l = [2, 2, 2, 2, 4, 5]\n",
        "\n",
        "# Convert the list 'l' to a set 's_to_l', removing duplicates.\n",
        "s_to_l = set(l)\n",
        "\n",
        "# Print the original list 'l'.\n",
        "print(l)  # Output: [2, 2, 2, 2, 4, 5]\n",
        "\n",
        "# Print the length of the original list 'l'.\n",
        "print(len(l))  # Output: 6\n",
        "\n",
        "# Print the set 's_to_l' containing unique elements from the list.\n",
        "print(s_to_l)  # Output: {2, 4, 5}\n",
        "\n",
        "# Print the length of the set 's_to_l'.\n",
        "print(len(s_to_l))  # Output: 3\n",
        "\n",
        "# Calculate the set difference between 's1' and 's2'.\n",
        "s1.difference(s2)\n",
        "\n",
        "# Calculate the intersection of sets 's1' and 's2'.\n",
        "s1.intersection(s2)\n",
        "\n",
        "# Calculate the union of sets 's1' and 's2'.\n",
        "s1.union(s2)\n"
      ],
      "metadata": {
        "id": "Z6TNTprkZYQ_"
      },
      "execution_count": null,
      "outputs": []
    },
    {
      "cell_type": "markdown",
      "source": [
        "# Boolean\n",
        "\n",
        "It will work exactly like the **WHERE** clause in SQL"
      ],
      "metadata": {
        "id": "QHm--upcY3ft"
      }
    },
    {
      "cell_type": "code",
      "source": [
        "# Define a function 'is_even' that takes a 'number' as input.\n",
        "def is_even(number):\n",
        "    # Check if the 'number' is even by calculating the remainder when divided by 2.\n",
        "    # If the remainder is 0, the number is even, and the function returns True.\n",
        "    # Otherwise, it returns False.\n",
        "    return number % 2 == 0\n",
        "\n",
        "# Call the 'is_even' function with the argument 2 and print the result.\n",
        "print(is_even(2))  # Output: True\n",
        "\n",
        "# Call the 'is_even' function with the argument 3 and print the result.\n",
        "print(is_even(3))  # Output: False\n"
      ],
      "metadata": {
        "id": "YsnBA9EnY4nN"
      },
      "execution_count": null,
      "outputs": []
    },
    {
      "cell_type": "markdown",
      "source": [
        "# List\n",
        "the list are composed of different elements called items"
      ],
      "metadata": {
        "id": "77JotvqjYLac"
      }
    },
    {
      "cell_type": "code",
      "source": [
        "# the type is list\n",
        "type([1,2,3,4,7])\n",
        "\n",
        "# assign l to a list\n",
        "l = [1,2,3,4,7,5]\n",
        "\n",
        "# check what is the first value of l\n",
        "l[0]\n",
        "\n",
        "# let's change the 3rd value to 1\n",
        "l[2] = 1\n",
        "l\n",
        "\n",
        "# let's see the value of the last element\n",
        "l[-1]\n",
        "\n",
        "# let's see all the elements before the last one\n",
        "l[:-1]\n",
        "l[0:-1] # Galaad\n",
        "\n",
        "# let's see all the elements from the 3 position to the end\n",
        "l[2:]\n",
        "\n",
        "\n",
        "# let's reverse the order of the list l\n",
        "l[::-1]\n",
        "\n",
        "# let's take the 2 first elements and reverse the order\n",
        "l[0:2][::-1]\n",
        "l[0:2:-1] # doesn't work because first it reverse the list\n",
        "l[0:2:-1]\n",
        "\n",
        "# slice the list. Let's work only on the sub list from the 1st to the 3rd position\n",
        "l[0:2] # Going from position 1 to position 2\n",
        "l[0:3] # Going from position 1 to position 3\n",
        "[l[0],l[3]] # Taking only values of position 1 and position 4\n",
        "\n",
        "# Create a list with boolean, int, float and string\n",
        "new_list = [True,1,2.5,\"abc\"]\n",
        "new_list\n",
        "\n",
        "# Create a list of a list\n",
        "\n",
        "even_odd_list = [1,3,5,7,2,4,6]\n",
        "even_odd_list = [[1,3,5,7],[2,4,6]]\n",
        "# Retrieve the 2nd element of the 2nd list\n",
        "even_odd_list[1][1]\n",
        "\n",
        "new_list = [[1,3,5,7],[2,4,[1,3,5,7],[2,4,6],6],[2,4,6]]\n",
        "\n",
        "# Create a list 'l' with integer elements.\n",
        "l = [1, 2, 3, 4, 7]\n",
        "\n",
        "# Create a new list 'new_l' by slicing 'l' from index 2 in reverse order to the beginning.\n",
        "new_l = l[2::-1]\n",
        "\n",
        "# Print the 'new_l' list, which contains elements from 'l' reversed starting from index 2.\n",
        "new_l\n",
        "\n",
        "# Assign floating-point values to variables representing different room areas.\n",
        "hall = 11.25\n",
        "kit = 18.0\n",
        "liv = 20.0\n",
        "bed = 10.75\n",
        "bath = 9.50\n",
        "\n",
        "# Create a list 'areas' that contains room names and their corresponding areas.\n",
        "areas = [\"hallway\", hall, \"kitchen\", kit, \"living room\", liv,\n",
        "         \"bedroom\", bed, \"bathroom\", bath]\n",
        "\n",
        "# Slice 'areas' to get the last four elements, representing room names and their areas.\n",
        "areas[-4:]\n",
        "\n",
        "# Slice 'areas' to exclude the last two elements, leaving room names and their areas.\n",
        "areas[:-2]\n"
      ],
      "metadata": {
        "id": "tx4af38EYRmY"
      },
      "execution_count": null,
      "outputs": []
    },
    {
      "cell_type": "markdown",
      "source": [
        "# The methods"
      ],
      "metadata": {
        "id": "wSZI6ZaTXx0k"
      }
    },
    {
      "cell_type": "code",
      "source": [
        "# Create a new list 'new_list2' containing integers and a string.\n",
        "new_list2 = [1, 2, \"e\"]\n",
        "\n",
        "# Print the 'new_list2' to display its current contents.\n",
        "print(new_list2)\n",
        "\n",
        "# Add the item \"Hello\" to the end of the list using the 'append' method.\n",
        "new_list2.append(\"Hello\")\n",
        "print(new_list2)\n",
        "\n",
        "# Remove the last item added to the list using the 'pop' method.\n",
        "print(new_list2.pop())\n",
        "print(new_list2)\n",
        "\n",
        "# To find the index of a specific element, we use the 'index' method.\n",
        "# In this case, we want to find the position of \"e\".\n",
        "new_list2.index(\"e\")\n",
        "\n",
        "# To remove a specific element from the list, we use the 'remove' method.\n",
        "# Let's remove the integer 1 from the list.\n",
        "new_list2.remove(1)\n",
        "print(new_list2)\n"
      ],
      "metadata": {
        "id": "Lwk0dGGoX6Jg"
      },
      "execution_count": null,
      "outputs": []
    },
    {
      "cell_type": "markdown",
      "source": [
        "# Condition statement\n",
        "With more than 2 options"
      ],
      "metadata": {
        "id": "fA-kLKz9XGkh"
      }
    },
    {
      "cell_type": "code",
      "source": [
        "# Define a function 'surface_room' that takes a 'room_name' as input.\n",
        "def surface_room(room_name):\n",
        "    # Check if 'room_name' matches specific room names and assign the corresponding variable or error message.\n",
        "    if room_name == \"hallway\":\n",
        "        res = hall\n",
        "    elif room_name == \"kitchen\":\n",
        "        res = kit\n",
        "    elif room_name == \"living room\":\n",
        "        res = liv\n",
        "    elif room_name == \"bathroom\":\n",
        "        res = bath\n",
        "    elif room_name == \"bedroom\":\n",
        "        res = bed\n",
        "    else:\n",
        "        # If 'room_name' doesn't match any known room names, provide an error message.\n",
        "        res = \"Try again with a correct room name\"\n",
        "    # Return the result, which is either the room's variable or an error message.\n",
        "    return res\n",
        "\n",
        "# Call the 'surface_room' function with \"bedroom\" as input and print the result.\n",
        "print(surface_room(\"bedroom\"))\n",
        "\n",
        "# Call the 'surface_room' function with \"BEDROOM\" as input and print the result.\n",
        "print(surface_room(\"BEDROOM\"))\n"
      ],
      "metadata": {
        "id": "7dSDCzINXMXN"
      },
      "execution_count": null,
      "outputs": []
    },
    {
      "cell_type": "markdown",
      "source": [
        "# For loop"
      ],
      "metadata": {
        "id": "ysdCfCGPWr4D"
      }
    },
    {
      "cell_type": "code",
      "source": [
        "# List of room names.\n",
        "areas_name = [\"hallway\", \"kitchen\", \"living room\", \"bedroom\", \"bathroom\"]\n",
        "\n",
        "# Define a function 'surface_room' that takes a 'room_name' as input.\n",
        "def surface_room(room_name):\n",
        "    # Convert the 'room_name' to lowercase to make it case-insensitive.\n",
        "    room_name = room_name.lower()\n",
        "    # Check the 'room_name' and assign the corresponding variable or provide an error message.\n",
        "    if room_name == \"hallway\":\n",
        "        result = hall\n",
        "    elif room_name == \"kitchen\":\n",
        "        result = kit\n",
        "    elif room_name == \"living room\":\n",
        "        result = liv\n",
        "    elif room_name == \"bathroom\":\n",
        "        result = bath\n",
        "    elif room_name == \"bedroom\":\n",
        "        result = bed\n",
        "    else:\n",
        "        result = \"Try again with a correct room name\"\n",
        "    return result\n",
        "\n",
        "# Call the 'surface_room' function with different room names.\n",
        "surface_room(\"hall\")\n",
        "surface_room(\"kit\")\n",
        "surface_room(\"liv\")\n",
        "\n",
        "# Uncomment the following loop to print the surface area of all rooms in 'areas_name'.\n",
        "# for i in areas_name:\n",
        "#     print(i, \": \", surface_room(i))\n",
        "\n",
        "# Loop through 'areas_name' and print the surface area of each room.\n",
        "for i in range(len(areas_name)):\n",
        "    print(surface_room(areas_name[i]))\n"
      ],
      "metadata": {
        "id": "wT_VY6YMWk3t"
      },
      "execution_count": null,
      "outputs": []
    },
    {
      "cell_type": "markdown",
      "source": [
        "# List comprehension"
      ],
      "metadata": {
        "id": "7dK1A0OaWduy"
      }
    },
    {
      "cell_type": "code",
      "source": [
        "surface_list =[]\n",
        "for i in areas_name:\n",
        "  surface_list.append(surface_room(i))\n",
        "\n",
        "# list comprehension\n",
        "print([surface_room(room) for room in areas_name])\n",
        "\n",
        "# add a condition\n",
        "print(areas_name)\n",
        "[surface_room(room) for room in areas_name if len(room)<10 and len(room)>7]"
      ],
      "metadata": {
        "id": "z3WbBesJWg2I"
      },
      "execution_count": null,
      "outputs": []
    }
  ]
}