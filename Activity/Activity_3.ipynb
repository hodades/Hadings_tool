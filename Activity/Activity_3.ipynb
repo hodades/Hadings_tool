{
  "nbformat": 4,
  "nbformat_minor": 0,
  "metadata": {
    "colab": {
      "provenance": []
    },
    "kernelspec": {
      "name": "python3",
      "display_name": "Python 3"
    },
    "language_info": {
      "name": "python"
    }
  },
  "cells": [
    {
      "cell_type": "markdown",
      "source": [
        "#While Loop"
      ],
      "metadata": {
        "id": "s1up2eJovb_o"
      }
    },
    {
      "cell_type": "code",
      "source": [
        "# 1. Write a function with 2 arguments that prints all the odd or even numbers\n",
        "# between 1 and the first parameter. The second parameter tells you if you have\n",
        "# to print odd or even numbers\n",
        "\n",
        "\n",
        "def n_print(n,odd_or_even):\n",
        "    if odd_or_even == \"impair\":\n",
        "        for i in range(1, n + 1, 2):\n",
        "            print(i)\n",
        "    elif odd_or_even == \"pair\":\n",
        "        for i in range(2, n + 1, 2):\n",
        "            print(i)\n",
        "\n",
        "def n_print(n,odd_or_even):\n",
        "    i = 1\n",
        "    while i<=n:\n",
        "      if odd_or_even == \"impair\" and i%2!=0:\n",
        "            print(i)\n",
        "      elif odd_or_even == \"pair\" and i%2==0:\n",
        "            print(i)\n",
        "      i=i+1\n",
        "\n",
        "\n",
        "#Yasmine\n",
        "\n",
        "def odd_or_even(num,num_type) :\n",
        "  i=1\n",
        "  if num_type == \"odd\" :\n",
        "    while i <= num : #continue while i is inferior or equal to num\n",
        "      if i % 2 != 0 : #for print only the odd numbers\n",
        "        print(i) #print all our i odd numbers\n",
        "      i += 1 #add 1 to i\n",
        "  elif num_type == \"even\" :\n",
        "    while i <= num :\n",
        "      if i % 2 == 0 : #for print only the even numbers\n",
        "        print(i)\n",
        "      i += 1\n",
        "\n",
        "\n",
        "odd_or_even(9, \"odd\")\n",
        "\n",
        "# 2. Write a for loop that prints the largest number in a list\n",
        "# without using min() or max() monthly_savings = 100\n",
        "\n",
        "myList = [4,5,3,5,2,50]\n",
        "def max_perso(mylist) :\n",
        "  maxMylist = mylist[0]\n",
        "  for i in mylist :\n",
        "    if i > maxMylist :\n",
        "      maxMylist = i\n",
        "  return maxMylist\n",
        "\n",
        "max_perso([1,2,3])\n",
        "\n",
        "# christ\n",
        "lst = [1,7,3,-1,123,95]\n",
        "maxLst = lst[0] #1\n",
        "\n",
        "i = 0\n",
        "while i < len(lst) :\n",
        "     if lst[i] > maxLst :\n",
        "         maxLst = lst[i]\n",
        "     i+=1\n",
        "\n",
        "print(max)\n",
        "\n",
        "# 3. Write a Python function that takes a list of numbers as input\n",
        "# and returns the sum of all the even numbers in the list.\n",
        "\n",
        "# christ\n",
        "def sum_even(lst):\n",
        "    i =0\n",
        "    sum_lst = 0\n",
        "    while i < len(lst) :\n",
        "        if lst[i] % 2 == 0:\n",
        "            sum_lst  += lst[i]\n",
        "        i += 1\n",
        "    return sum_lst\n",
        "\n",
        "print(sum_even([1,2,3,4]))\n"
      ],
      "metadata": {
        "id": "ez-eyRQqtUlm"
      },
      "execution_count": null,
      "outputs": []
    },
    {
      "cell_type": "markdown",
      "source": [
        "#Dictionnary"
      ],
      "metadata": {
        "id": "gOITiD3Swdwc"
      }
    },
    {
      "cell_type": "code",
      "source": [
        "# 1. Write a Python function that takes a dictionary as input and\n",
        "# returns a new dictionary where all the keys have been converted to lowercase.\n",
        "def lower_dict(input_dict):\n",
        "    # Create an empty dictionary to store the lowercase key-value pairs.\n",
        "    lowercase_dict = {}\n",
        "    # Iterate over the items in the input dictionary.\n",
        "    for key, value in input_dict.items():\n",
        "        # Convert the key to lowercase and add it to the new dictionary with the original value.\n",
        "        lowercase_dict[key.lower()] = value\n",
        "    # Return the new dictionary with lowercase keys.\n",
        "    return lowercase_dict\n",
        "\n",
        "# 2. Write a Python function that takes a dictionary as input and\n",
        "# returns a new dictionary where all the values have been doubled.\n",
        "def double_dict(input_dict):\n",
        "    # Create a new dictionary to store doubled values.\n",
        "    doubled_values_dict = {}\n",
        "    # Iterate over the items in the input dictionary.\n",
        "    for key, value in input_dict.items():\n",
        "        # Double the value and add it to the new dictionary with the same key.\n",
        "        doubled_values_dict[key] = value * 2\n",
        "    # Return the new dictionary with doubled values.\n",
        "    return doubled_values_dict\n",
        "\n",
        "# Example usage for doubling values in a dictionary:\n",
        "input_dict = {1: 1, 2: 2, 3: 3}\n",
        "output_dict = double_dict(input_dict)\n",
        "print(output_dict)\n"
      ],
      "metadata": {
        "id": "YMwLZ3r6vg5H"
      },
      "execution_count": null,
      "outputs": []
    },
    {
      "cell_type": "markdown",
      "source": [
        "#HOMEWORK"
      ],
      "metadata": {
        "id": "tx79Woq-vT8V"
      }
    },
    {
      "cell_type": "code",
      "execution_count": null,
      "metadata": {
        "id": "yC0q2QyNtCdE"
      },
      "outputs": [],
      "source": [
        "# Definition of the function slow_down with a 'speed' argument.\n",
        "def slow_down(speed):\n",
        "    # Check if the speed is greater than 48.\n",
        "    if speed > 48:\n",
        "        # If yes, reduce the speed by 11.\n",
        "        speed -= 11\n",
        "        # Create a string with a message indicating a significant slowdown\n",
        "        # and display the new speed.\n",
        "        res = \"Slow down big time! Now the speed should be \" + str(speed)\n",
        "    else:\n",
        "        # If the speed is less than or equal to 48, reduce the speed by 6.\n",
        "        speed -= 6\n",
        "        # Create a string with a message indicating a slight slowdown\n",
        "        # and display the new speed.\n",
        "        res = \"Slow down! \" + str(speed)\n",
        "    # Return the string 'res' containing the message.\n",
        "    return res\n",
        "\n",
        "# Call the slow_down function with a speed of 44.\n",
        "slow_down(44)\n",
        "\n",
        "# Call the slow_down function again with a speed of 44 and store the result in 'x'.\n",
        "x = slow_down(44)\n",
        "\n",
        "# Display the value of 'x', which contains the message generated by the slow_down function.\n",
        "print(x)\n",
        "\n",
        "# Definition of the function purchased_but_not_subscribed with 'customers' and 'newsletter_subscribers' arguments.\n",
        "def purchased_but_not_subscribed(customers, newsletter_subscribers):\n",
        "    # Check if both 'customers' and 'newsletter_subscribers' are sets.\n",
        "    if type(customers) == set and type(newsletter_subscribers) == set:\n",
        "        # Find the set difference between 'customers' and 'newsletter_subscribers'.\n",
        "        result = customers.difference(newsletter_subscribers)\n",
        "    # Check if both 'customers' and 'newsletter_subscribers' are lists.\n",
        "    elif type(customers) == list and type(newsletter_subscribers) == list:\n",
        "        # Convert 'customers' and 'newsletter_subscribers' to sets.\n",
        "        customers = set(customers)\n",
        "        newsletter_subscribers = set(newsletter_subscribers)\n",
        "        # Find the set difference between 'customers' and 'newsletter_subscribers'.\n",
        "        result = customers.difference(newsletter_subscribers)\n",
        "    else:\n",
        "        # If the input types are not valid, set the result to a message indicating that they should be converted to sets or lists.\n",
        "        result = \"convert to set or list\"\n",
        "\n",
        "    # Return the result, which will be either the set difference or an error message.\n",
        "    return result\n",
        "\n",
        "# Call the purchased_but_not_subscribed function with example input data.\n",
        "purchased_but_not_subscribed(customers=[1, 2, 3, 4, 4, 5, 4, 57], newsletter_subscribers=[1, 2, 4, 6, 7, 8, 8, 32, 536])"
      ]
    }
  ]
}