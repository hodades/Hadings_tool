{
  "metadata": {
    "language_info": {
      "name": ""
    },
    "kernelspec": {
      "name": "python",
      "display_name": "Python (Pyodide)",
      "language": "python"
    }
  },
  "nbformat_minor": 4,
  "nbformat": 4,
  "cells": [
    {
      "cell_type": "code",
      "source": "# Activity 1: If & functions :\n# Let's write a function called is_even() that takes a number as input and returns\n# True if the number is even, and False otherwise.\n\ndef is_even(number):\n    \"\"\"\n    Check if a number is even.\n\n    Parameters:\n    number (int): The number to check.\n\n    Returns:\n    bool: True if the number is even, False otherwise.\n    \"\"\"\n    if number % 2 == 0:\n        return True\n    else:\n        return False\n\n# Activity 2:\n\n# 1. We will create a list named areas, which contains the area of the hallway (hall),\n# kitchen (kit), living room (liv), bedroom (bed), and bathroom (bath), in that order.\n# We use the predefined variables:\nhall = 11.25\nkit = 18.0\nliv = 20.0\nbed = 10.75\nbath = 9.50\n\n# 1 and 2 Let's display the areas using the print() function:\nareas = [hall, kit, liv, bed, bath]\nprint(areas)\n\n# 3 and 4 Complete the code that creates the list of areas.\n# Build the list so that it contains the name of each room as a string first,\n# then its area. In other words, add the strings \"hallway\", \"kitchen\", and \"bedroom\"\n# at the appropriate positions. Display areas using the print() function.\nareas = [\"hallway\", hall, \"kitchen\", kit, \"living room\", liv, \"bedroom\", bed, \"bathroom\", bath]\nprint(areas)\n\n# 5. Let's create a variable house that is a list of lists consisting of rooms and areas:\nhouse = [[\"hallway\", hall], [\"kitchen\", kit], [\"living room\", liv], [\"bedroom\", bed], [\"bathroom\", bath]]\n\n# 6. Display the second element of areas:\nprint(areas[1])\n\n# 7. Display the last element of areas:\nprint(areas[9])\n# or\nprint(areas[-1])\n\n# 8. Display the last 4 elements of areas using negative numbers:\nprint(areas[-4:])\n\n# 9. Display the area of the living room:\nprint(areas[5])\n\n# 10. Create a new variable, eat_sleep_area, which contains the sum of\n# the kitchen area and the bedroom area. Print the variable:\neat_sleep_area = house[1][1] + house[3][1]\nprint(eat_sleep_area)\n\n# 11. Create the function surface_room that shows the area when you input\n# the name of the room. If the name does not match an existing room name, write:\n# \"Try again with a correct room name\"\n\nhall = 11.25\nkit = 18.0\nliv = 20.0\nbed = 10.75\nbath = 9.50\n\ndef surface_room(room_name):\n    \"\"\"\n    Get the area of a room by providing its name.\n\n    Parameters:\n    room_name (str): The name of the room.\n\n    Returns:\n    float or str: The area of the room if it exists, otherwise an error message.\n    \"\"\"\n    if room_name == \"hallway\":\n        res = hall\n    elif room_name == \"kitchen\":\n        res = kit\n    elif room_name == \"living room\":\n        res = liv\n    elif room_name == \"bathroom\":\n        res = bath\n    elif room_name == \"bedroom\":\n        res = bed\n    else:\n        res = \"Try again with a correct room name\"\n    return res",
      "metadata": {},
      "execution_count": null,
      "outputs": []
    },
    {
      "cell_type": "code",
      "source": "",
      "metadata": {},
      "execution_count": null,
      "outputs": []
    }
  ]
}