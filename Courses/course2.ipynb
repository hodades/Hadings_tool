{
  "nbformat": 4,
  "nbformat_minor": 0,
  "metadata": {
    "colab": {
      "provenance": []
    },
    "kernelspec": {
      "name": "python3",
      "display_name": "Python 3"
    },
    "language_info": {
      "name": "python"
    }
  },
  "cells": [
    {
      "cell_type": "markdown",
      "source": [
        "Explanation of concepts: In this section, we have covered the following concepts:\n",
        "\n",
        "The creation of a Boolean function defining the is_even() function.\n",
        "\n",
        "This function is a Boolean function and returns true or false values if even or odd.\n",
        "List to create a list of different elements called \"items.\" It is created with [].\n",
        "\n",
        "Methods are functions that apply to lists with the type (list). Unlike user-defined functions, methods modify and completely change the list.\n",
        "\n",
        "The condition statement: it allows for creating specific conditions to perform an action, and here we use the keywords: if, elif, else.\n",
        "\n",
        "A 'FOR' loop.\n",
        "\n",
        "List comprehension (List Comprehension)."
      ],
      "metadata": {
        "id": "1T8hrSj7SaFQ"
      }
    },
    {
      "cell_type": "markdown",
      "source": [
        "# Boolean\n",
        "\n",
        "The creation of a Boolean function defining the is_even() function. This function is a Boolean function and returns true or false values if even or odd."
      ],
      "metadata": {
        "id": "aD3TN3MNhLRy"
      }
    },
    {
      "cell_type": "code",
      "source": [
        "def is_even(num):\n",
        "    \"\"\"\n",
        "    Checks if a number is even.\n",
        "\n",
        "    This function takes an input number `num` and returns True if the number is even, otherwise False.\n",
        "\n",
        "    Args:\n",
        "        num (int): The number to check.\n",
        "\n",
        "    Returns:\n",
        "        bool: True if the number is even, False otherwise.\n",
        "    \"\"\"\n",
        "    # \"%\" represents the remainder of a division\n",
        "    if num % 2 == 0:\n",
        "        result = True\n",
        "    else:\n",
        "        result = False\n",
        "    return result\n",
        "\n",
        "# Usage examples\n",
        "print(is_even(2))\n",
        "# Expected result: True\n",
        "\n",
        "print(is_even(3))\n",
        "# Expected result: False\n",
        "\n",
        "\n"
      ],
      "metadata": {
        "id": "SyQ3Gb1HTKeJ"
      },
      "execution_count": null,
      "outputs": []
    },
    {
      "cell_type": "markdown",
      "source": [
        "# List\n",
        "the list are composed of different elements called items"
      ],
      "metadata": {
        "id": "dNoS4766i7ae"
      }
    },
    {
      "cell_type": "code",
      "source": [
        "\"\"\"\n",
        "This Python script includes examples and explanations of how to use lists in Python.\n",
        "\"\"\"\n",
        "# Create an empty list\n",
        "l = []\n",
        "# or\n",
        "l = list()\n",
        "\n",
        "# The type is a list\n",
        "type([1, 2, 3, 4, 7])\n",
        "\n",
        "# Assign l to a list\n",
        "l = [1, 2, 3, 4, 7, 5]\n",
        "\n",
        "# Check what the first value of l is\n",
        "l[0]\n",
        "\n",
        "# Let's change the third value to 1\n",
        "l[2] = 1\n",
        "l\n",
        "\n",
        "# Observe the value of the last element\n",
        "l[-1]\n",
        "\n",
        "# Observe all elements before the last one\n",
        "l[:-1]\n",
        "l[0:-1]  # Galaad\n",
        "\n",
        "# Observe all elements from the third position to the end\n",
        "l[2:]\n",
        "\n",
        "# Reverse the order of list l\n",
        "l[::-1]\n",
        "\n",
        "# Take the first 2 elements and reverse the order\n",
        "l[0:2][::-1]\n",
        "l[0:2:-1]  # Doesn't work as it first reverses the list\n",
        "l[0:2:-1]\n",
        "\n",
        "# Slice the list. Work only on the sublist from the first to the third position\n",
        "l[0:2]  # From position 1 to position 2\n",
        "l[0:3]  # From position 1 to position 3\n",
        "[l[0], l[3]]  # Take only the values from position 1 and position 4\n",
        "\n",
        "# Create a list with booleans, integers, decimals, and strings\n",
        "new_list = [True, 1, 2.5, \"abc\"]\n",
        "new_list\n",
        "\n",
        "# Create a list of lists\n",
        "even_odd_list = [1, 3, 5, 7, 2, 4, 6]\n",
        "even_odd_list = [[1, 3, 5, 7], [2, 4, 6]]\n",
        "# Retrieve the second element of the second list\n",
        "even_odd_list[1][1]\n",
        "\n",
        "new_list = [[1, 3, 5, 7], [2, 4, [1, 3, 5, 7], [2, 4, 6], 6], [2, 4, 6]]\n",
        "\n",
        "\n",
        "\n",
        "\n"
      ],
      "metadata": {
        "id": "oX3D7Np6jCIB"
      },
      "execution_count": null,
      "outputs": []
    },
    {
      "cell_type": "code",
      "source": [
        "\"\"\"\n",
        "This Python script includes examples and explanations of how to use lists in Python.\n",
        "\"\"\"\n",
        "\n",
        "# Create a list\n",
        "l = [1, 2, 3, 4, 7]\n",
        "\n",
        "# Create a new list `new_l` by extracting elements from position 2 to the beginning of the list,\n",
        "# with a reverse order.\n",
        "new_l = l[2::-1]\n",
        "\n",
        "# Print the new list\n",
        "print(new_l)\n",
        "\n"
      ],
      "metadata": {
        "colab": {
          "base_uri": "https://localhost:8080/"
        },
        "id": "Sh466BmO-aj2",
        "outputId": "868ebf0a-b084-4636-f552-afdc4636ecde"
      },
      "execution_count": null,
      "outputs": [
        {
          "output_type": "stream",
          "name": "stdout",
          "text": [
            "[3, 2, 1]\n"
          ]
        }
      ]
    },
    {
      "cell_type": "code",
      "source": [
        "\"\"\"\n",
        "This Python script contains information about different areas of a house, along with their dimensions.\n",
        "\"\"\"\n",
        "\n",
        "# Dimensions of each area in the house\n",
        "hall = 11.25  # Dimensions of the hallway in square meters\n",
        "kit = 18.0  # Dimensions of the kitchen in square meters\n",
        "liv = 20.0  # Dimensions of the living room in square meters\n",
        "bed = 10.75  # Dimensions of the bedroom in square meters\n",
        "bath = 9.50  # Dimensions of the bathroom in square meters\n",
        "\n",
        "# List containing the names of the areas and their dimensions\n",
        "areas = [\"hallway\", hall, \"kitchen\", kit, \"living room\", liv,\n",
        "         \"bedroom\", bed, \"bathroom\", bath]\n",
        "\n",
        "# Selecting the last 4 elements of the list (areas in the house)\n",
        "areas[-4:]\n",
        "\n",
        "# Selecting all elements of the list except the last 2 (names of the areas and their dimensions)\n",
        "areas[:-2]\n",
        "\n"
      ],
      "metadata": {
        "colab": {
          "base_uri": "https://localhost:8080/"
        },
        "id": "uEghiXJ98_Hl",
        "outputId": "1fcce0bf-88bf-4884-e407-392c0c11b92d"
      },
      "execution_count": null,
      "outputs": [
        {
          "output_type": "execute_result",
          "data": {
            "text/plain": [
              "['hallway', 11.25, 'kitchen', 18.0, 'living room', 20.0, 'bedroom', 10.75]"
            ]
          },
          "metadata": {},
          "execution_count": 5
        }
      ]
    },
    {
      "cell_type": "markdown",
      "source": [
        "## Methods\n",
        "Methods are functions that apply to lists with the type (list). Unlike user-defined functions, methods modify and completely change the list.\n",
        "\n"
      ],
      "metadata": {
        "id": "pyqm5A3k31BV"
      }
    },
    {
      "cell_type": "code",
      "source": [
        "\"\"\"\n",
        "\n",
        "This Python script demonstrates the use of list methods to add, remove elements, and find the index of an element.\n",
        "\"\"\"\n",
        "\n",
        "# Create a new list `new_list2` containing elements\n",
        "new_list2 = [1, 2, \"e\"]\n",
        "print(new_list2)\n",
        "\n",
        "# Add the element \"Hello\" to the list\n",
        "new_list2.append(\"Hello\")\n",
        "print(new_list2)\n",
        "\n",
        "# Remove the last added element from the list\n",
        "new_list2.pop()\n",
        "print(new_list2)\n",
        "\n",
        "# Use the `index` method to find the position of the element \"e\" in the list\n",
        "position_e = new_list2.index(\"e\")\n",
        "print(\"The position of 'e' in the list is:\", position_e)\n",
        "\n",
        "# To remove a specific element, let's remove the number 1 from the list\n",
        "new_list2.remove(1)\n",
        "print(new_list2)\n",
        "\n"
      ],
      "metadata": {
        "id": "Z47WOgVc360U"
      },
      "execution_count": null,
      "outputs": []
    },
    {
      "cell_type": "markdown",
      "source": [
        "#Conditional structures\n",
        "With more than two options.\n",
        "\n",
        "Conditional control structures (or simply conditions) allow us to execute different blocks of code depending on whether a specific condition is met or not.\n",
        "\n",
        "We often use conditions with variables: based on the value stored in a variable, we want to execute one block of code rather than another.\n",
        "\n",
        "Python provides us with the following conditional structures:\n",
        "\n",
        "The if condition (\"if\");\n",
        "The if...else condition (\"if...else\");\n",
        "The if...elif...else condition (\"if...else if... else\")."
      ],
      "metadata": {
        "id": "1tc0rLjuhxyM"
      }
    },
    {
      "cell_type": "code",
      "source": [
        "def calculate_room_area(room_name):\n",
        "    \"\"\"\n",
        "    This function calculates the area of a room based on its name.\n",
        "\n",
        "    Args:\n",
        "        room_name (str): The name of the room (in lowercase).\n",
        "\n",
        "    Returns:\n",
        "        float or str: The area of the room if the name is valid, otherwise an error message.\n",
        "    \"\"\"\n",
        "\n",
        "    # Using the if-elif-else control structure to determine the area based on the room name\n",
        "    if room_name == \"hallway\":\n",
        "        res = hall\n",
        "    elif room_name == \"kitchen\":\n",
        "        res = kit\n",
        "    elif room_name == \"living room\":\n",
        "        res = liv\n",
        "    elif room_name == \"bathroom\":\n",
        "        res = bath\n",
        "    elif room_name == \"bedroom\":\n",
        "        res = bed\n",
        "    else:\n",
        "        res = \"Please try again with a valid room name\"\n",
        "\n",
        "    return res\n",
        "\n",
        "# Examples of using the calculate_room_area function\n",
        "print(calculate_room_area(\"bedroom\"))\n",
        "# Expected result: the area of the bedroom\n",
        "print(calculate_room_area(\"BEDROOM\"))\n",
        "# Expected result: an error message\n",
        "\n",
        "\n"
      ],
      "metadata": {
        "colab": {
          "base_uri": "https://localhost:8080/"
        },
        "id": "4bOvEbbVTdIi",
        "outputId": "afb4ffa6-a5f5-470a-b363-b4c77fa0f96b"
      },
      "execution_count": null,
      "outputs": [
        {
          "output_type": "stream",
          "name": "stdout",
          "text": [
            "10.75\n",
            "Try again with a correct room name\n"
          ]
        },
        {
          "output_type": "execute_result",
          "data": {
            "text/plain": [
              "45"
            ]
          },
          "metadata": {},
          "execution_count": 72
        }
      ]
    },
    {
      "cell_type": "markdown",
      "source": [
        "# The FOR Loop\n",
        "The `for` loop is a control structure in programming that allows you to iterate (loop) over a collection of elements, such as a list, tuple, string, etc. It is commonly used to perform a repeated operation on each item within that collection. Here's a concise explanation of its usage:\n",
        "\n",
        "1. **Iterating over a Sequence**: The `for` loop is primarily used for iterating over a sequence of elements. For example, a list of integers `[1, 2, 3, 4, 5]` or a string `\"Python\"`.\n",
        "\n",
        "2. **Basic Syntax**: The basic syntax of a `for` loop in Python is as follows:\n",
        "\n",
        "   ```python\n",
        "   for element in sequence:\n",
        "       # Code to be executed for each element\n",
        "   ```\n",
        "\n",
        "   - `element` is a temporary variable that takes on the value of each element in the sequence during each iteration.\n",
        "   - `sequence` is the sequence you're iterating over, such as a list.\n",
        "\n",
        "3. **Repeated Execution**: The code inside the `for` loop is executed for each element of the sequence. This allows you to perform operations on each element without manually repeating the code.\n",
        "\n",
        "4. **Using `range`**: The `range` function is often used to generate a sequence of integers to iterate over. For example, `for i in range(5)` will iterate from 0 to 4 (inclusive).\n",
        "\n",
        "5. **Manipulating Indices**: Sometimes, you may need to access the position (index) of each element within the sequence. You can use the `enumerate` function for that. For example:\n",
        "\n",
        "   ```python\n",
        "   for index, element in enumerate(sequence):\n",
        "       # index contains the position of the element in the sequence\n",
        "       # element contains the value of the element\n",
        "   ```\n",
        "\n",
        "6. **Early Exit**: You can use the `break` statement to exit the loop prematurely if a certain condition is met.\n",
        "\n",
        "The `for` loop is a powerful tool for automating repetitive tasks and efficiently processing large amounts of data in programming. It is widely used for traversing lists, dictionaries, files, and many other types of data."
      ],
      "metadata": {
        "id": "kC-5Ixtjh_FD"
      }
    },
    {
      "cell_type": "code",
      "source": [
        "\"\"\"\n",
        "This Python script calculates the area of a room based on its name using a predefined list of room names.\n",
        "\"\"\"\n",
        "\n",
        "# List of room names\n",
        "areas_name = [\"hallway\", \"kitchen\", \"living room\", \"bedroom\", \"bathroom\"]\n",
        "\n",
        "def calculate_room_area(room_name):\n",
        "    \"\"\"\n",
        "    Calculates the area of a room based on its name.\n",
        "\n",
        "    Args:\n",
        "        room_name (str): The name of the room (in lowercase).\n",
        "\n",
        "    Returns:\n",
        "        float or str: The area of the room if the name is valid, otherwise an error message.\n",
        "    \"\"\"\n",
        "\n",
        "    # Convert the room name to lowercase to avoid case issues\n",
        "    room_name = room_name.lower()\n",
        "\n",
        "    # Using the if-elif-else control structure to determine the area based on the room name\n",
        "    if room_name == \"hallway\":\n",
        "        result = hall\n",
        "    elif room_name == \"kitchen\":\n",
        "        result = kit\n",
        "    elif room_name == \"living room\":\n",
        "        result = liv\n",
        "    elif room_name == \"bathroom\":\n",
        "        result = bath\n",
        "    elif room_name == \"bedroom\":\n",
        "        result = bed\n",
        "    else:\n",
        "        result = \"Please try again with a valid room name\"\n",
        "\n",
        "    return result\n",
        "\n",
        "# Calling the calculate_room_area function with different room names\n",
        "calculate_room_area(\"hall\")\n",
        "calculate_room_area(\"kit\")\n",
        "calculate_room_area(\"liv\")\n",
        "\n",
        "# Using a for loop to calculate the area of all rooms in the areas_name list\n",
        "for i in range(len(areas_name)):\n",
        "    print(calculate_room_area(areas_name[i]))\n"
      ],
      "metadata": {
        "colab": {
          "base_uri": "https://localhost:8080/"
        },
        "id": "VRVQeLZtiL2Q",
        "outputId": "88bab02f-ce8a-44cb-9fd4-f3365410383d"
      },
      "execution_count": null,
      "outputs": [
        {
          "output_type": "stream",
          "name": "stdout",
          "text": [
            "11.25\n",
            "18.0\n",
            "20.0\n",
            "10.75\n",
            "9.5\n"
          ]
        }
      ]
    },
    {
      "cell_type": "markdown",
      "source": [
        "## List Comprehension\n",
        "\n",
        "List comprehension is a syntactic construct in Python that allows you to create lists in a concise and elegant way using a single line of code. It is commonly used to apply an operation to each element of a sequence (such as a list) and generate a new list based on the results of that operation. Here's a definition and a concise example:\n",
        "\n",
        "**Definition:**\n",
        "\n",
        "List comprehension is a concise way to create a new list in Python by applying an expression to each element of an existing sequence (like a list, tuple, etc.).\n",
        "\n",
        "**Basic Syntax:**\n",
        "\n",
        "The basic syntax of list comprehension is as follows:\n",
        "\n",
        "```python\n",
        "new_list = [expression for element in original_sequence]\n",
        "```\n",
        "\n",
        "- `new_list` is the new list you are creating.\n",
        "- `expression` is the operation you want to perform on each element of the sequence.\n",
        "- `element` is a temporary variable that takes on the value of each element in the original sequence.\n",
        "- `original_sequence` is the sequence you are iterating over.\n",
        "\n",
        "**Example of Usage:**\n",
        "\n",
        "Suppose we have a list of numbers, and we want to create a new list that contains the square of each number. Here's how it can be done with list comprehension:\n",
        "\n",
        "```python\n",
        "numbers = [1, 2, 3, 4, 5]\n",
        "squares = [x**2 for x in numbers]\n",
        "```\n",
        "\n",
        "In this example, `squares` will be equal to `[1, 4, 9, 16, 25]`, because the expression `x**2` is applied to each element `x` in the `numbers` list.\n",
        "\n",
        "List comprehension is appreciated for its simplicity and readability, and it is often used to perform filtering, transformation, or data generation operations efficiently in Python. It helps avoid writing explicit `for` loops for simple tasks.."
      ],
      "metadata": {
        "id": "7j98FqZYx-V8"
      }
    },
    {
      "cell_type": "code",
      "source": [
        "'''\n",
        "This Python script illustrates the use of list comprehension to create a new list containing the squares of numbers.\n",
        "'''\n",
        "\n",
        "# Create a list of numbers\n",
        "numbers = [1, 2, 3, 4, 5]\n",
        "\n",
        "# Use list comprehension to create a new list containing the squares of the numbers\n",
        "squares = [x**2 for x in numbers]\n",
        "\n",
        "# Print the resulting list\n",
        "print(squares)\n",
        "# Expected result: [1, 4, 9, 16, 25]\n",
        "\n",
        "\n"
      ],
      "metadata": {
        "colab": {
          "base_uri": "https://localhost:8080/"
        },
        "id": "O-25TZ2RgZm5",
        "outputId": "ea37f901-ac06-4238-ca78-6dc1226367d8"
      },
      "execution_count": null,
      "outputs": [
        {
          "output_type": "stream",
          "name": "stdout",
          "text": [
            "[1, 4, 9, 16, 25]\n"
          ]
        }
      ]
    },
    {
      "cell_type": "code",
      "source": [
        "\"\"\"\n",
        "This Python script demonstrates the use of different operations on a list of room areas.\n",
        "\"\"\"\n",
        "\n",
        "# Create a list of room areas\n",
        "areas = [11.25, 18.0, 20.0, 10.75, 9.50]\n",
        "\n",
        "# Add two new areas to the list\n",
        "areas.append(24.5)\n",
        "areas.append(15.45)\n",
        "\n",
        "# Print the list of areas (including the additions)\n",
        "print(areas)\n",
        "# Expected result: [11.25, 18.0, 20.0, 10.75, 9.50, 24.5, 15.45]\n",
        "\n",
        "# Print the list of areas in reverse order without modifying the original list\n",
        "print(areas[::-1])\n",
        "# Expected result: [15.45, 24.5, 9.50, 10.75, 20.0, 18.0, 11.25]\n",
        "\n",
        "# The original list was not modified by the previous operation\n",
        "print(areas)\n",
        "# Still: [11.25, 18.0, 20.0, 10.75, 9.50, 24.5, 15.45]\n",
        "\n",
        "# Reverse the list in place (modifies the original list)\n",
        "areas.reverse()\n",
        "\n",
        "# Print the list of areas after reversal\n",
        "print(areas)\n",
        "# Expected result: [15.45, 24.5, 9.50, 10.75, 20.0, 18.0, 11.25]\n",
        "\n"
      ],
      "metadata": {
        "colab": {
          "base_uri": "https://localhost:8080/"
        },
        "id": "s6xF7-jvwXvd",
        "outputId": "0e4577b2-0368-4dd0-b808-6e90aa639ec0"
      },
      "execution_count": null,
      "outputs": [
        {
          "output_type": "stream",
          "name": "stdout",
          "text": [
            "[11.25, 18.0, 20.0, 10.75, 9.5, 24.5, 15.45]\n",
            "[15.45, 24.5, 9.5, 10.75, 20.0, 18.0, 11.25]\n",
            "[11.25, 18.0, 20.0, 10.75, 9.5, 24.5, 15.45]\n",
            "[15.45, 24.5, 9.5, 10.75, 20.0, 18.0, 11.25]\n"
          ]
        }
      ]
    }
  ]
}