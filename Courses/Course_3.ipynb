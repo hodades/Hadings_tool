{
  "cells": [
    {
      "cell_type": "markdown",
      "metadata": {
        "id": "UFMrM9DakZzx"
      },
      "source": [
        "# WHILE LOOP\n",
        "##How do you use while in Python?\n",
        "A while loop is used to repeatedly execute the indented block of code as long as the True-False condition following the word 'while' evaluates to True. It is ideal for situations where the total number of iterations necessary cannot be defined beforehand, such as obtaining user input and checking it until correct input is entered.\n",
        "\n",
        "##What is a while statement in Python?\n",
        "The word 'while' in Python is a reserved word which creates a while loop using the syntax: while condition: do_stuff. If do_stuff is more than one line, it should be put on the next line and indented. The 'condition' is evaluated before each iteration of the loop, and 'do_stuff' is executed so long as 'condition' is true.\n",
        "\n",
        "##What is a while loop Python?\n",
        "A while loop has the syntax 'while condition: do_stuff' where 'do_stuff' is usually placed on the next line and indented. It executes the statements in 'do_stuff' repeatedly so long as 'condition' is true."
      ]
    },
    {
      "cell_type": "code",
      "execution_count": null,
      "metadata": {
        "colab": {
          "base_uri": "https://localhost:8080/"
        },
        "id": "Qqqwc033dtkA",
        "outputId": "a55c1857-7d02-4902-9363-fdca36396381"
      },
      "outputs": [
        {
          "output_type": "stream",
          "name": "stdout",
          "text": [
            "For loop\n",
            "1\n",
            "2\n",
            "3\n",
            "4\n",
            "5\n",
            "6\n",
            "7\n",
            "8\n",
            "9\n",
            "10\n",
            "While loop\n",
            "1\n",
            "2\n",
            "3\n",
            "4\n",
            "5\n",
            "6\n",
            "7\n",
            "8\n",
            "9\n",
            "10\n"
          ]
        }
      ],
      "source": [
        "# for loop print from 1 to 10\n",
        "print(\"For loop\")\n",
        "for i in range(1,11):\n",
        "  print(i)\n",
        "\n",
        "\n",
        "# while loop print from 1 to 10\n",
        "print(\"While loop\")\n",
        "i=1\n",
        "while i<11:\n",
        "  print(i)\n",
        "  i=i+1 # i+=1 la même chose"
      ]
    },
    {
      "cell_type": "code",
      "execution_count": null,
      "metadata": {
        "colab": {
          "base_uri": "https://localhost:8080/"
        },
        "id": "n5mKUUfH5egH",
        "outputId": "9438dcc8-72a1-4ddb-aaba-e45970ba2a39"
      },
      "outputs": [
        {
          "output_type": "stream",
          "name": "stdout",
          "text": [
            "1\n",
            "3\n",
            "5\n",
            "7\n",
            "9\n",
            "11\n",
            "13\n",
            "15\n",
            "17\n",
            "19\n",
            "error in odd_or_event parameter\n"
          ]
        }
      ],
      "source": [
        "def n_print(n,odd_or_even):\n",
        "    i = 1\n",
        "    while i<=n:\n",
        "      if odd_or_even == \"impair\" and i%2!=0:\n",
        "            print(i)\n",
        "      elif odd_or_even == \"pair\" and i%2==0:\n",
        "            print(i)\n",
        "      i=i+1\n",
        "\n",
        "n_print(19,\"impair\")\n",
        "\n",
        "\n",
        "# we can stop the loop by adding a break keyword in a while or a for loop\n",
        "# to prevent errors or infinite loops\n",
        "\n",
        "def n_print(n,odd_or_even):\n",
        "    i = 1\n",
        "    while i<=n:\n",
        "      if odd_or_even == \"impair\" and i%2!=0:\n",
        "            print(i)\n",
        "      elif odd_or_even == \"pair\" and i%2==0:\n",
        "            print(i)\n",
        "      elif odd_or_even != \"pair\" and odd_or_even != \"impair\":\n",
        "        print(\"error in odd_or_event parameter\")\n",
        "        break\n",
        "      i=i+1\n",
        "\n",
        "n_print(19,\"imopair\")\n",
        "\n"
      ]
    },
    {
      "cell_type": "markdown",
      "metadata": {
        "id": "Ra7-I7VjGDGd"
      },
      "source": [
        "## Rappel: Local and global variable"
      ]
    },
    {
      "cell_type": "code",
      "execution_count": null,
      "metadata": {
        "colab": {
          "base_uri": "https://localhost:8080/"
        },
        "id": "PSdCc9x0GJhb",
        "outputId": "bdb9ae91-4a15-4719-a782-e969b9e9c128"
      },
      "outputs": [
        {
          "output_type": "stream",
          "name": "stdout",
          "text": [
            "0\n",
            "1\n",
            "2\n",
            "3\n",
            "4\n",
            "3\n",
            "3\n",
            "3\n",
            "3\n",
            "3\n",
            "3\n",
            "3\n",
            "3\n"
          ]
        }
      ],
      "source": [
        "# i is define as a global variable and his value is 3\n",
        "# i is used as a variable in the for loop and takes the value of range(5)\n",
        "# The i in the for loop is a local variable\n",
        "# The print statement will first look for a local i variable\n",
        "# and if it doesn't exist it will look for a global one\n",
        "\n",
        "# example 1 where the printed value is the local variable\n",
        "i = 3\n",
        "for i in range(5):\n",
        "  print(i)\n",
        "\n",
        "\n",
        "# example 2 where the printed value is the global variable\n",
        "i = 3\n",
        "for j in [0,True,0,i,\"2\",2,2,2]:\n",
        "  print(i)"
      ]
    },
    {
      "cell_type": "markdown",
      "metadata": {
        "id": "0HpxDqBdJkCO"
      },
      "source": [
        "# Dictionary\n",
        "## What is a dictionary?\n",
        "Dictionaries are Python’s implementation of a data structure that is more generally known as an associative array. <br>\n",
        "A dictionary consists of a collection of key-value pairs. Each key-value pair maps the key to its associated value.\n",
        "\n",
        "## How do you define a dictionnary?\n",
        "You can define a dictionary by enclosing a comma-separated list of key-value pairs in curly braces ({}).<br>\n",
        "A colon (:) separates each key from its associated value:"
      ]
    },
    {
      "cell_type": "code",
      "execution_count": null,
      "metadata": {
        "colab": {
          "base_uri": "https://localhost:8080/"
        },
        "id": "-5dQuCYjI5qh",
        "outputId": "8ac77799-4930-4edc-d215-c374feff8b9f"
      },
      "outputs": [
        {
          "output_type": "stream",
          "name": "stdout",
          "text": [
            "{'hallway': 11.25, 'kitchen': 18}\n",
            "{'hallway': 11.25, 'kitchen': 18.0, 'living room': 20.0, 'bedroom': 10.75, 'bathroom': 9.5, 'poolsize': 9.5}\n"
          ]
        }
      ],
      "source": [
        "area_size = [11.25, 18.0, 20.0, 10.75, 9.50, 9.50]\n",
        "area_name = [\"hallway\", \"kitchen\", \"living room\", \"bedroom\", \"bathroom\", \"poolsize\"]\n",
        "\n",
        "# created a dictionary\n",
        "dict_area = dict()\n",
        "dict_area = {\"hallway\":11.25, \"kitchen\":18}\n",
        "print(dict_area)\n",
        "# return the value associated to kitchen\n",
        "dict_area[\"kitchen\"]\n",
        "\n",
        "dict_area = {\"Tarzs\":[20, 20, 15], \"Yasmine\":[18,20]}\n",
        "dict_area[\"Tarzs\"][1]\n",
        "\n",
        "dict_area = {\"hallway\":11.25, \"kitchen\":18}\n",
        "dict_area\n",
        "\n",
        "new_dict = dict()\n",
        "\n",
        "# method 1\n",
        "for i in range(len(area_name)):\n",
        "  new_dict[area_name[i]]=area_size[i]\n",
        "\n",
        "\n",
        "\n",
        "print(new_dict)\n"
      ]
    },
    {
      "cell_type": "code",
      "execution_count": null,
      "metadata": {
        "id": "FyZ7Yd3qOEe4"
      },
      "outputs": [],
      "source": [
        "def lower_dict(new_dict):\n",
        "  # transform the keys to a list and lowercase them\n",
        "  key = new_dict.keys()\n",
        "  key_list = list(key)\n",
        "  lower_key_list = [unit_key.lower() for unit_key in key_list]\n",
        "\n",
        "  # transform the values to a list\n",
        "  value_list = list(new_dict.values())\n",
        "\n",
        "  # key = list(new_dict.keys()).lower()\n",
        "  # create a dictionary\n",
        "  new_dict = dict()\n",
        "  for i in range(len(value_list)):\n",
        "    new_dict[lower_key_list[i]]=value_list[i]\n",
        "  return new_dict\n",
        "\n",
        "lower_dict({\"Coco\":2, \"Banane\":5, \"Fraise\":25})\n",
        "\n",
        "\n",
        "def lower_dict(new_dict):\n",
        "  # transform the keys to a list and lowercase them\n",
        "  key_list = list(new_dict.keys)\n",
        "  lower_key_list = [unit_key.lower() for unit_key in key_list]\n",
        "\n",
        "  # transform the values to a list\n",
        "  value_list = list(new_dict.values())\n",
        "\n",
        "  # key = list(new_dict.keys()).lower()\n",
        "  # create a dictionary\n",
        "  new_dict = dict()\n",
        "  for i in range(len(value_list)):\n",
        "    new_dict[lower_key_list[i]]=value_list[i]\n",
        "  return new_dict\n",
        "\n",
        "\n",
        "\n"
      ]
    },
    {
      "cell_type": "code",
      "execution_count": null,
      "metadata": {
        "colab": {
          "base_uri": "https://localhost:8080/"
        },
        "id": "LxwYIb7zNdPv",
        "outputId": "e05a0bb1-2fd6-47d3-8b52-ae67d5ba9fcf"
      },
      "outputs": [
        {
          "output_type": "execute_result",
          "data": {
            "text/plain": [
              "dict_keys"
            ]
          },
          "metadata": {},
          "execution_count": 16
        }
      ],
      "source": [
        "type(dict_area.keys())"
      ]
    },
    {
      "cell_type": "markdown",
      "metadata": {
        "id": "jEKRo7qkyMdJ"
      },
      "source": [
        "# Handle string like a list\n",
        "\n",
        "Here we tried to interact with one string as if it was a list\n"
      ]
    },
    {
      "cell_type": "code",
      "execution_count": null,
      "metadata": {
        "colab": {
          "base_uri": "https://localhost:8080/",
          "height": 35
        },
        "id": "NGCBftBMNb5T",
        "outputId": "f9f60667-f849-4e60-c770-0e827f8a5c03"
      },
      "outputs": [
        {
          "data": {
            "application/vnd.google.colaboratory.intrinsic+json": {
              "type": "string"
            },
            "text/plain": [
              "'Alb'"
            ]
          },
          "execution_count": 46,
          "metadata": {},
          "output_type": "execute_result"
        }
      ],
      "source": [
        "# Define a string variable 'name' with the value \"Albert\".\n",
        "name = \"Albert\"\n",
        "\n",
        "# Get the type of 'name' and print it.\n",
        "type(name)\n",
        "\n",
        "# Access and print the substring of 'name' from index 0 to 2 (inclusive of 0, exclusive of 3).\n",
        "name[0:3]\n"
      ]
    },
    {
      "cell_type": "markdown",
      "metadata": {
        "id": "l2EFVTK_yjv4"
      },
      "source": [
        "# Tuple\n",
        "\n",
        "## What is a tuple?\n",
        "Tuple is one of 4 built-in data types in Python used to store collections of data, the other 3 are List, Set, and Dictionary, all with different qualities and usage.\n",
        "\n",
        "## Why do we use them?\n",
        "Tuples are used to store multiple items in a single variable.\n",
        "\n",
        "## Technical assets\n",
        "A tuple is a collection which is ordered and unchangeable.\n",
        "## How are they represented?\n",
        "Tuples are written with round brackets."
      ]
    },
    {
      "cell_type": "code",
      "execution_count": null,
      "metadata": {
        "colab": {
          "base_uri": "https://localhost:8080/"
        },
        "id": "W5avqyScNYZL",
        "outputId": "2873b582-8b4e-44a6-ec08-522078cd1eb0"
      },
      "outputs": [
        {
          "output_type": "stream",
          "name": "stdout",
          "text": [
            "(1, 2)\n",
            "La longueur est 10\n",
            "La largeur est 5\n"
          ]
        },
        {
          "output_type": "execute_result",
          "data": {
            "text/plain": [
              "6"
            ]
          },
          "metadata": {},
          "execution_count": 17
        }
      ],
      "source": [
        "# 1. Create a tuple 'x' with two elements (1, 2).\n",
        "x = (1, 2)\n",
        "\n",
        "# Print the tuple 'x'.\n",
        "print(x)\n",
        "\n",
        "# Get the type of 'x' and print it.\n",
        "type(x)\n",
        "\n",
        "# Access the first element of 'x' and print it.\n",
        "x[0]\n",
        "\n",
        "# Access the second element of 'x' and print it.\n",
        "x[1]\n",
        "\n",
        "# Create a tuple 'aire_rect' representing properties of a rectangle.\n",
        "# It includes length, width, height, width, depth, depth, a boolean value, and a string.\n",
        "aire_rect = (5, 10, 5, 5, 5, 5, True, \"coucou\")\n",
        "\n",
        "# Assign the values of length 'l' and width 'L' from the 'aire_rect' tuple.\n",
        "l, L = (5, 10)\n",
        "\n",
        "# Print the length and width.\n",
        "print(\"La longueur est\", L)\n",
        "print(\"La largeur est\", l)\n",
        "\n",
        "# 2. Write a Python function 'double_val_dic' that takes a dictionary as input and\n",
        "# returns a new dictionary where all the values have been doubled.\n",
        "def double_val_dic(dico):\n",
        "    new_dict = {}\n",
        "    for dict_item in dico.items():\n",
        "        new_dict[dict_item[0]] = 2 * dict_item[1]\n",
        "    return new_dict\n",
        "\n",
        "# Example usage of 'double_val_dic' function.\n",
        "double_val_dic({1: 1, 2: 2, 3: 3})\n",
        "\n",
        "# Find the index of the first occurrence of 'True' in the 'aire_rect' tuple.\n",
        "aire_rect.index(True)\n"
      ]
    },
    {
      "cell_type": "markdown",
      "metadata": {
        "id": "IH1RBKpJ2sh-"
      },
      "source": [
        "## Set\n"
      ]
    },
    {
      "cell_type": "code",
      "execution_count": null,
      "metadata": {
        "colab": {
          "base_uri": "https://localhost:8080/"
        },
        "id": "K7K8j0pbztQA",
        "outputId": "cb0f0703-cfaf-48cb-927f-46d81eaaa1f6"
      },
      "outputs": [
        {
          "output_type": "stream",
          "name": "stdout",
          "text": [
            "[2, 2, 2, 2, 4, 5]\n",
            "6\n",
            "{2, 4, 5}\n",
            "3\n"
          ]
        },
        {
          "output_type": "execute_result",
          "data": {
            "text/plain": [
              "{2, 4, 5}"
            ]
          },
          "metadata": {},
          "execution_count": 18
        }
      ],
      "source": [
        "s = set()\n",
        "s = {}\n",
        "\n",
        "s1 = {2,4,5}\n",
        "s2 = {2,6,9}\n",
        "l = [2,2,2,2,4,5]\n",
        "s_to_l = set(l)\n",
        "print(l)\n",
        "print(len(l))\n",
        "print(s_to_l)\n",
        "print(len(s_to_l))\n",
        "\n",
        "s1.difference()"
      ]
    },
    {
      "cell_type": "code",
      "execution_count": null,
      "metadata": {
        "id": "xtHXqooU0wiw",
        "colab": {
          "base_uri": "https://localhost:8080/"
        },
        "outputId": "29ee72f0-0061-48a8-809a-1f561d288608"
      },
      "outputs": [
        {
          "output_type": "execute_result",
          "data": {
            "text/plain": [
              "[('Marcus Garvey Park', ('Black', 'Cinnamon', 'Cleaning', None)),\n",
              " ('Highbridge Park',\n",
              "  ('Gray',\n",
              "   'Cinnamon',\n",
              "   'Running, Eating',\n",
              "   'Runs From, watches us in short tree')),\n",
              " ('Madison Square Park', ('Gray', None, 'Foraging', 'Indifferent')),\n",
              " ('City Hall Park', ('Gray', 'Cinnamon', 'Eating', 'Approaches')),\n",
              " ('J. Hood Wright Park', ('Gray', 'White', 'Running', 'Indifferent')),\n",
              " ('Seward Park', ('Gray', 'Cinnamon', 'Eating', 'Indifferent')),\n",
              " ('Union Square Park', ('Gray', 'Black', 'Climbing', None)),\n",
              " ('Tompkins Square Park', ('Gray', 'Gray', 'Lounging', 'Approaches'))]"
            ]
          },
          "metadata": {},
          "execution_count": 19
        }
      ],
      "source": [
        "[('Marcus Garvey Park', ('Black', 'Cinnamon', 'Cleaning', None)),\n",
        " ('Highbridge Park',\n",
        "  ('Gray',\n",
        "   'Cinnamon',\n",
        "   'Running, Eating',\n",
        "   'Runs From, watches us in short tree')),\n",
        " ('Madison Square Park', ('Gray', None, 'Foraging', 'Indifferent')),\n",
        " ('City Hall Park', ('Gray', 'Cinnamon', 'Eating', 'Approaches')),\n",
        " ('J. Hood Wright Park', ('Gray', 'White', 'Running', 'Indifferent')),\n",
        " ('Seward Park', ('Gray', 'Cinnamon', 'Eating', 'Indifferent')),\n",
        " ('Union Square Park', ('Gray', 'Black', 'Climbing', None)),\n",
        " ('Tompkins Square Park', ('Gray', 'Gray', 'Lounging', 'Approaches'))]"
      ]
    },
    {
      "cell_type": "markdown",
      "metadata": {
        "id": "aD3TN3MNhLRy"
      },
      "source": [
        "# Boolean\n",
        "\n",
        "## What is a Boolean?\n",
        "Python boolean type is one of the built-in data types provided by Python, which represents one of the two values i.e. True or False.\n",
        "\n",
        "##What do we use it for?\n",
        "Generally, it is used to represent the truth values of the expressions. For example, 1==1 is True whereas 2<1 is False.\n",
        "\n",
        "##Technical assets\n",
        "The boolean value can be of two types only i.e. either True or False. The output <class ‘bool’> indicates the variable is a boolean data type.\n",
        "\n",
        "\n",
        "###Tips\n",
        "It will work exactly like the **WHERE** clause in SQL"
      ]
    },
    {
      "cell_type": "code",
      "execution_count": null,
      "metadata": {
        "colab": {
          "base_uri": "https://localhost:8080/"
        },
        "id": "yhbd7kiKf3dP",
        "outputId": "be7678c7-94a3-4fb6-e2a9-d8a53f17e9ee"
      },
      "outputs": [
        {
          "output_type": "stream",
          "name": "stdout",
          "text": [
            "True\n",
            "False\n"
          ]
        }
      ],
      "source": [
        "# Define a function named 'is_even' that takes an input 'number'.\n",
        "def is_even(number):\n",
        "    # Check if the 'number' is even by performing the modulus operation (% 2) and comparing it to 0.\n",
        "    # If the result is 0, the number is even, and the function returns True. Otherwise, it returns False.\n",
        "    return number % 2 == 0\n",
        "\n",
        "# Call the 'is_even' function with the argument 2 and print the result.\n",
        "print(is_even(2))\n",
        "\n",
        "# Call the 'is_even' function with the argument 3 and print the result.\n",
        "print(is_even(3))\n",
        "\n"
      ]
    },
    {
      "cell_type": "markdown",
      "metadata": {
        "id": "dNoS4766i7ae"
      },
      "source": [
        "# List\n",
        "\n",
        "## What is a list?\n",
        "Lists are one of 4 built-in data types in Python used to store collections of data, the other 3 are Tuple, Set, and Dictionary, all with different qualities and usage.\n",
        "\n",
        "## Why do we use them?\n",
        "Lists are used to store multiple items in a single variable.\n",
        "\n",
        "## How are they represented?\n",
        "Lists are created using square brackets:\n",
        "\n"
      ]
    },
    {
      "cell_type": "code",
      "execution_count": null,
      "metadata": {
        "id": "oX3D7Np6jCIB"
      },
      "outputs": [],
      "source": [
        "# the type is list\n",
        "type([1,2,3,4,7])\n",
        "\n",
        "# assign l to a list\n",
        "l = [1,2,3,4,7,5]\n",
        "\n",
        "# check what is the first value of l\n",
        "l[0]\n",
        "\n",
        "# let's change the 3rd value to 1\n",
        "l[2] = 1\n",
        "l\n",
        "\n",
        "# let's see the value of the last element\n",
        "l[-1]\n",
        "\n",
        "# let's see all the elements before the last one\n",
        "l[:-1]\n",
        "l[0:-1] # Galaad\n",
        "\n",
        "# let's see all the elements from the 3 position to the end\n",
        "l[2:]\n",
        "\n",
        "\n",
        "# let's reverse the order of the list l\n",
        "l[::-1]\n",
        "\n",
        "# let's take the 2 first elements and reverse the order\n",
        "l[0:2][::-1]\n",
        "l[0:2:-1] # doesn't work because first it reverse the list\n",
        "l[0:2:-1]\n",
        "\n",
        "# slice the list. Let's work only on the sub list from the 1st to the 3rd position\n",
        "l[0:2] # Going from position 1 to position 2\n",
        "l[0:3] # Going from position 1 to position 3\n",
        "[l[0],l[3]] # Taking only values of position 1 and position 4\n",
        "\n",
        "# Create a list with boolean, int, float and string\n",
        "new_list = [True,1,2.5,\"abc\"]\n",
        "new_list\n",
        "\n",
        "# Create a list of a list\n",
        "\n",
        "even_odd_list = [1,3,5,7,2,4,6]\n",
        "even_odd_list = [[1,3,5,7],[2,4,6]]\n",
        "# Retrieve the 2nd element of the 2nd list\n",
        "even_odd_list[1][1]\n",
        "\n",
        "new_list = [[1,3,5,7],[2,4,[1,3,5,7],[2,4,6],6],[2,4,6]]\n",
        "\n",
        "\n"
      ]
    },
    {
      "cell_type": "code",
      "execution_count": null,
      "metadata": {
        "colab": {
          "base_uri": "https://localhost:8080/"
        },
        "id": "Sh466BmO-aj2",
        "outputId": "a51f196e-bd2a-400a-808a-b9ab46f36493"
      },
      "outputs": [
        {
          "output_type": "execute_result",
          "data": {
            "text/plain": [
              "[3, 2, 1]"
            ]
          },
          "metadata": {},
          "execution_count": 22
        }
      ],
      "source": [
        "l = [1,2,3,4,7]\n",
        "new_l = l[2::-1]\n",
        "new_l"
      ]
    },
    {
      "cell_type": "code",
      "execution_count": null,
      "metadata": {
        "colab": {
          "base_uri": "https://localhost:8080/"
        },
        "id": "uEghiXJ98_Hl",
        "outputId": "620e8156-76a2-4dca-a333-784052a1bcfe"
      },
      "outputs": [
        {
          "output_type": "execute_result",
          "data": {
            "text/plain": [
              "['hallway', 11.25, 'kitchen', 18.0, 'living room', 20.0, 'bedroom', 10.75]"
            ]
          },
          "metadata": {},
          "execution_count": 23
        }
      ],
      "source": [
        "hall = 11.25\n",
        "kit = 18.0\n",
        "liv = 20.0\n",
        "bed = 10.75\n",
        "bath = 9.50\n",
        "areas = [\"hallway\", hall, \"kitchen\", kit, \"living room\", liv,\n",
        "         \"bedroom\", bed, \"bathroom\", bath]\n",
        "\n",
        "areas[-4:]\n",
        "areas[:-2]"
      ]
    },
    {
      "cell_type": "markdown",
      "metadata": {
        "id": "pyqm5A3k31BV"
      },
      "source": [
        "## The methods\n",
        "\n"
      ]
    },
    {
      "cell_type": "code",
      "execution_count": null,
      "metadata": {
        "id": "Z47WOgVc360U",
        "colab": {
          "base_uri": "https://localhost:8080/"
        },
        "outputId": "695722fb-f5cc-47e1-a013-06d3ee679da4"
      },
      "outputs": [
        {
          "output_type": "stream",
          "name": "stdout",
          "text": [
            "[1, 2, 'e']\n",
            "[1, 2, 'e', 'Hello']\n",
            "[1, 2, 'e']\n",
            "[2, 'e']\n"
          ]
        }
      ],
      "source": [
        "new_list2 = [1,2,\"e\"]\n",
        "print(new_list2)\n",
        "# ajouter l'item \"Hello\"\n",
        "new_list2.append(\"Hello\")\n",
        "print(new_list2)\n",
        "\n",
        "# Enlever le dernier item ajouté dans la liste\n",
        "new_list2.pop()\n",
        "print(new_list2)\n",
        "\n",
        "# To know the index, we use the index method\n",
        "# I want to the position of \"e\"\n",
        "new_list2.index(\"e\")\n",
        "\n",
        "# To remove one specific element\n",
        "# Let's remove 1\n",
        "new_list2.remove(1)\n",
        "print(new_list2)"
      ]
    },
    {
      "cell_type": "markdown",
      "metadata": {
        "id": "1tc0rLjuhxyM"
      },
      "source": [
        "# Condition statement\n",
        "\n",
        "##What is a conditionnal statement?\n",
        "A conditional statement is used to handle conditions in your program.\n",
        "\n",
        "##How do we define them?\n",
        "These statements guide the program while making decisions based on the conditions encountered by the program.\n",
        "Can be done with more than 2 options"
      ]
    },
    {
      "cell_type": "code",
      "execution_count": null,
      "metadata": {
        "colab": {
          "base_uri": "https://localhost:8080/"
        },
        "id": "4bOvEbbVTdIi",
        "outputId": "8295a235-7462-48c9-a3e0-f5f4942deb53"
      },
      "outputs": [
        {
          "output_type": "stream",
          "name": "stdout",
          "text": [
            "10.75\n",
            "Try again with a correct room name\n"
          ]
        }
      ],
      "source": [
        "# Define a function named 'surface_room' that takes a 'room_name' as input.\n",
        "def surface_room(room_name):\n",
        "    # Check if 'room_name' is equal to \"hallway\".\n",
        "    if room_name == \"hallway\":\n",
        "        # If it is, assign the value of 'hall' to 'res'.\n",
        "        res = hall\n",
        "    # Check if 'room_name' is equal to \"kitchen\".\n",
        "    elif room_name == \"kitchen\":\n",
        "        # If it is, assign the value of 'kit' to 'res'.\n",
        "        res = kit\n",
        "    # Check if 'room_name' is equal to \"living room\".\n",
        "    elif room_name == \"living room\":\n",
        "        # If it is, assign the value of 'liv' to 'res'.\n",
        "        res = liv\n",
        "    # Check if 'room_name' is equal to \"bathroom\".\n",
        "    elif room_name == \"bathroom\":\n",
        "        # If it is, assign the value of 'bath' to 'res'.\n",
        "        res = bath\n",
        "    # Check if 'room_name' is equal to \"bedroom\".\n",
        "    elif room_name == \"bedroom\":\n",
        "        # If it is, assign the value of 'bed' to 'res'.\n",
        "        res = bed\n",
        "    else:\n",
        "        # If 'room_name' does not match any of the above cases, assign a message to 'res'.\n",
        "        res = \"Try again with a correct room name\"\n",
        "    # Return the value of 'res' as the result of the function.\n",
        "    return res\n",
        "\n",
        "# Call the 'surface_room' function with the argument \"bedroom\" and print the result.\n",
        "print(surface_room(\"bedroom\"))\n",
        "\n",
        "# Call the 'surface_room' function with the argument \"BEDROOM\" and print the result.\n",
        "print(surface_room(\"BEDROOM\"))\n"
      ]
    },
    {
      "cell_type": "markdown",
      "metadata": {
        "id": "kC-5Ixtjh_FD"
      },
      "source": [
        "# For LOOP\n",
        "\n",
        "##What is a For Loop?\n",
        "A for loop is used for iterating over a sequence (that is either a list, a tuple, a dictionary, a set, or a string).\n",
        "\n",
        "##Why do we use a For Loop?\n",
        "With the for loop we can execute a set of statements, once for each item in a list, tuple, set etc."
      ]
    },
    {
      "cell_type": "code",
      "execution_count": null,
      "metadata": {
        "colab": {
          "base_uri": "https://localhost:8080/"
        },
        "id": "VRVQeLZtiL2Q",
        "outputId": "ff1aeff1-d68f-4983-bab7-7460089d6d32"
      },
      "outputs": [
        {
          "output_type": "stream",
          "name": "stdout",
          "text": [
            "Try again with a correct room name\n",
            "Try again with a correct room name\n",
            "Try again with a correct room name\n",
            "hallway :  11.25\n",
            "kitchen :  18.0\n",
            "living room :  20.0\n",
            "bedroom :  10.75\n",
            "bathroom :  9.5\n"
          ]
        }
      ],
      "source": [
        "# Define a list of room names.\n",
        "areas_name = [\"hallway\", \"kitchen\", \"living room\", \"bedroom\", \"bathroom\"]\n",
        "hall = 11.25\n",
        "kit = 18.0\n",
        "liv = 20.0\n",
        "bed = 10.75\n",
        "bath = 9.50\n",
        "\n",
        "# Define a function named 'surface_room' that takes 'room_name' as input.\n",
        "def surface_room(room_name):\n",
        "    # Convert 'room_name' to lowercase for case-insensitive comparison.\n",
        "    room_name = room_name.lower()\n",
        "    # Check if 'room_name' matches specific room names and assign the corresponding value to 'result'.\n",
        "    if room_name == \"hallway\":\n",
        "        result = hall\n",
        "    elif room_name == \"kitchen\":\n",
        "        result = kit\n",
        "    elif room_name == \"living room\":\n",
        "        result = liv\n",
        "    elif room_name == \"bathroom\":\n",
        "        result = bath\n",
        "    elif room_name == \"bedroom\":\n",
        "        result = bed\n",
        "    else:\n",
        "        # If 'room_name' doesn't match any known room name, assign an error message to 'result'.\n",
        "        result = \"Try again with a correct room name\"\n",
        "    # Return the value of 'result'.\n",
        "    return result\n",
        "\n",
        "# Call the 'surface_room' function with different room names and print the results.\n",
        "print(surface_room(\"hall\"))\n",
        "print(surface_room(\"kit\"))\n",
        "print(surface_room(\"liv\"))\n",
        "\n",
        "# Use a for loop to iterate over 'areas_name' and call 'surface_room' for each room name.\n",
        "for i in range(len(areas_name)):\n",
        "    print(areas_name[i], \": \", surface_room(areas_name[i]))\n"
      ]
    },
    {
      "cell_type": "markdown",
      "metadata": {
        "id": "HqSVVjQ5nGNd"
      },
      "source": [
        "## List Comprehension"
      ]
    },
    {
      "cell_type": "code",
      "execution_count": null,
      "metadata": {
        "colab": {
          "base_uri": "https://localhost:8080/"
        },
        "id": "O-25TZ2RgZm5",
        "outputId": "a94a5b06-e515-4824-a2de-eba391e53825"
      },
      "outputs": [
        {
          "output_type": "stream",
          "name": "stdout",
          "text": [
            "[11.25, 18.0, 20.0, 10.75, 9.5]\n",
            "['hallway', 'kitchen', 'living room', 'bedroom', 'bathroom']\n"
          ]
        },
        {
          "output_type": "execute_result",
          "data": {
            "text/plain": [
              "[9.5]"
            ]
          },
          "metadata": {},
          "execution_count": 27
        }
      ],
      "source": [
        "# Create an empty list to store surface values.\n",
        "surface_list = []\n",
        "\n",
        "# Iterate over each room name in the 'areas_name' list.\n",
        "for room_name in areas_name:\n",
        "    # Call the 'surface_room' function to calculate the surface area for the room.\n",
        "    surface = surface_room(room_name)\n",
        "    # Append the calculated surface area to the 'surface_list'.\n",
        "    surface_list.append(surface)\n",
        "\n",
        "# Print the surface areas for all rooms using a list comprehension.\n",
        "print([surface_room(room) for room in areas_name])\n",
        "\n",
        "# Add a condition to filter room names based on their length.\n",
        "print(areas_name)\n",
        "# Use list comprehension to get surface areas for rooms with names between 8 and 10 characters.\n",
        "[surface_room(room) for room in areas_name if 7 < len(room) < 11]\n"
      ]
    }
  ],
  "metadata": {
    "colab": {
      "provenance": [],
      "collapsed_sections": [
        "UFMrM9DakZzx",
        "0HpxDqBdJkCO",
        "jEKRo7qkyMdJ",
        "l2EFVTK_yjv4",
        "aD3TN3MNhLRy",
        "dNoS4766i7ae",
        "1tc0rLjuhxyM",
        "kC-5Ixtjh_FD"
      ]
    },
    "kernelspec": {
      "display_name": "Python 3",
      "name": "python3"
    },
    "language_info": {
      "name": "python"
    }
  },
  "nbformat": 4,
  "nbformat_minor": 0
}