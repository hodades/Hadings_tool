{
  "nbformat": 4,
  "nbformat_minor": 0,
  "metadata": {
    "colab": {
      "provenance": []
    },
    "kernelspec": {
      "name": "python3",
      "display_name": "Python 3"
    },
    "language_info": {
      "name": "python"
    }
  },
  "cells": [
    {
      "cell_type": "markdown",
      "source": [
        "## Error handling\n",
        "\n",
        "The key word `try` allows you to test your script.\n",
        "Then if there is an error, you can handle the message or the action with `except`.\n",
        "You can precise the type of error after `except` but the action taken will just work on this type of error."
      ],
      "metadata": {
        "id": "b_oOCcmoTmei"
      }
    },
    {
      "cell_type": "code",
      "source": [
        "# Whitout error handling\n",
        "def purchased_but_not_subscribed(customers, newsletter_subscribers):\n",
        "  result = customers.difference(newsletter_subscribers)\n",
        "  return  result\n",
        "\n",
        "purchased_but_not_subscribed(customers=[1,2,3,4,4,5,4,57,], newsletter_subscribers=[1,2,4,6,7,8,8,32,536])"
      ],
      "metadata": {
        "colab": {
          "base_uri": "https://localhost:8080/",
          "height": 331
        },
        "id": "uBcX-o82TpgT",
        "outputId": "37f5cceb-1cb7-4517-8139-73e2c1417036"
      },
      "execution_count": null,
      "outputs": [
        {
          "output_type": "error",
          "ename": "AttributeError",
          "evalue": "ignored",
          "traceback": [
            "\u001b[0;31m---------------------------------------------------------------------------\u001b[0m",
            "\u001b[0;31mAttributeError\u001b[0m                            Traceback (most recent call last)",
            "\u001b[0;32m<ipython-input-1-df7907ac6cb1>\u001b[0m in \u001b[0;36m<cell line: 6>\u001b[0;34m()\u001b[0m\n\u001b[1;32m      4\u001b[0m   \u001b[0;32mreturn\u001b[0m  \u001b[0mresult\u001b[0m\u001b[0;34m\u001b[0m\u001b[0;34m\u001b[0m\u001b[0m\n\u001b[1;32m      5\u001b[0m \u001b[0;34m\u001b[0m\u001b[0m\n\u001b[0;32m----> 6\u001b[0;31m \u001b[0mpurchased_but_not_subscribed\u001b[0m\u001b[0;34m(\u001b[0m\u001b[0mcustomers\u001b[0m\u001b[0;34m=\u001b[0m\u001b[0;34m[\u001b[0m\u001b[0;36m1\u001b[0m\u001b[0;34m,\u001b[0m\u001b[0;36m2\u001b[0m\u001b[0;34m,\u001b[0m\u001b[0;36m3\u001b[0m\u001b[0;34m,\u001b[0m\u001b[0;36m4\u001b[0m\u001b[0;34m,\u001b[0m\u001b[0;36m4\u001b[0m\u001b[0;34m,\u001b[0m\u001b[0;36m5\u001b[0m\u001b[0;34m,\u001b[0m\u001b[0;36m4\u001b[0m\u001b[0;34m,\u001b[0m\u001b[0;36m57\u001b[0m\u001b[0;34m,\u001b[0m\u001b[0;34m]\u001b[0m\u001b[0;34m,\u001b[0m \u001b[0mnewsletter_subscribers\u001b[0m\u001b[0;34m=\u001b[0m\u001b[0;34m[\u001b[0m\u001b[0;36m1\u001b[0m\u001b[0;34m,\u001b[0m\u001b[0;36m2\u001b[0m\u001b[0;34m,\u001b[0m\u001b[0;36m4\u001b[0m\u001b[0;34m,\u001b[0m\u001b[0;36m6\u001b[0m\u001b[0;34m,\u001b[0m\u001b[0;36m7\u001b[0m\u001b[0;34m,\u001b[0m\u001b[0;36m8\u001b[0m\u001b[0;34m,\u001b[0m\u001b[0;36m8\u001b[0m\u001b[0;34m,\u001b[0m\u001b[0;36m32\u001b[0m\u001b[0;34m,\u001b[0m\u001b[0;36m536\u001b[0m\u001b[0;34m]\u001b[0m\u001b[0;34m)\u001b[0m\u001b[0;34m\u001b[0m\u001b[0;34m\u001b[0m\u001b[0m\n\u001b[0m",
            "\u001b[0;32m<ipython-input-1-df7907ac6cb1>\u001b[0m in \u001b[0;36mpurchased_but_not_subscribed\u001b[0;34m(customers, newsletter_subscribers)\u001b[0m\n\u001b[1;32m      1\u001b[0m \u001b[0;31m# Whitout error handling\u001b[0m\u001b[0;34m\u001b[0m\u001b[0;34m\u001b[0m\u001b[0m\n\u001b[1;32m      2\u001b[0m \u001b[0;32mdef\u001b[0m \u001b[0mpurchased_but_not_subscribed\u001b[0m\u001b[0;34m(\u001b[0m\u001b[0mcustomers\u001b[0m\u001b[0;34m,\u001b[0m \u001b[0mnewsletter_subscribers\u001b[0m\u001b[0;34m)\u001b[0m\u001b[0;34m:\u001b[0m\u001b[0;34m\u001b[0m\u001b[0;34m\u001b[0m\u001b[0m\n\u001b[0;32m----> 3\u001b[0;31m   \u001b[0mresult\u001b[0m \u001b[0;34m=\u001b[0m \u001b[0mcustomers\u001b[0m\u001b[0;34m.\u001b[0m\u001b[0mdifference\u001b[0m\u001b[0;34m(\u001b[0m\u001b[0mnewsletter_subscribers\u001b[0m\u001b[0;34m)\u001b[0m\u001b[0;34m\u001b[0m\u001b[0;34m\u001b[0m\u001b[0m\n\u001b[0m\u001b[1;32m      4\u001b[0m   \u001b[0;32mreturn\u001b[0m  \u001b[0mresult\u001b[0m\u001b[0;34m\u001b[0m\u001b[0;34m\u001b[0m\u001b[0m\n\u001b[1;32m      5\u001b[0m \u001b[0;34m\u001b[0m\u001b[0m\n",
            "\u001b[0;31mAttributeError\u001b[0m: 'list' object has no attribute 'difference'"
          ]
        }
      ]
    },
    {
      "cell_type": "code",
      "source": [
        "# With error handling\n",
        "def purchased_but_not_subscribed_error_handling(customers, newsletter_subscribers):\n",
        "  try: #let's check if the code will run properly\n",
        "    result = customers.difference(newsletter_subscribers)\n",
        "  except: # if it doesn't run as expected, write the following message\n",
        "    result = \"Check the data type\"\n",
        "  return  result\n",
        "purchased_but_not_subscribed_error_handling(customers=[1,2,3,4,4,5,4,57,], newsletter_subscribers=[1,2,4,6,7,8,8,32,536])"
      ],
      "metadata": {
        "colab": {
          "base_uri": "https://localhost:8080/",
          "height": 35
        },
        "id": "unKJfk8xTy4b",
        "outputId": "472c138a-e80b-429e-cda3-bd7291a7332e"
      },
      "execution_count": null,
      "outputs": [
        {
          "output_type": "execute_result",
          "data": {
            "text/plain": [
              "'Check the data type'"
            ],
            "application/vnd.google.colaboratory.intrinsic+json": {
              "type": "string"
            }
          },
          "metadata": {},
          "execution_count": 2
        }
      ]
    },
    {
      "cell_type": "markdown",
      "source": [
        "Library"
      ],
      "metadata": {
        "id": "7CqsQraNUQs4"
      }
    },
    {
      "cell_type": "code",
      "source": [
        "# Import the numpy library with the alias 'np'.\n",
        "import numpy as np\n",
        "\n",
        "# Import the 'array' and 'median' modules from numpy.\n",
        "from numpy import array, median\n",
        "\n",
        "# Import the pandas library with the alias 'pd'.\n",
        "import pandas as pd\n",
        "\n",
        "# The code above imports the numpy and pandas libraries,\n",
        "# allowing you to use their functionalities in the subsequent code.\n",
        "\n"
      ],
      "metadata": {
        "id": "t6UKyC6uT7b1"
      },
      "execution_count": null,
      "outputs": []
    },
    {
      "cell_type": "code",
      "source": [
        "# Create an array 'x' using the 'array' function from numpy.\n",
        "x = array([2, 3, 4, 5, 6, 67])\n",
        "\n",
        "# Check the data type of the variable 'x'.\n",
        "type(x)\n",
        "\n",
        "# Calculate the median of the list [2, 3, 4, 5, 6, 67] using the 'median' function from numpy.\n",
        "median([2, 3, 4, 5, 6, 67])\n"
      ],
      "metadata": {
        "id": "eKjdhf_-Usjd"
      },
      "execution_count": null,
      "outputs": []
    },
    {
      "cell_type": "markdown",
      "source": [
        "# Set"
      ],
      "metadata": {
        "id": "5pV4zjrEZV1S"
      }
    },
    {
      "cell_type": "code",
      "source": [
        "# Create an empty set 's' using set() constructor.\n",
        "s = set()\n",
        "\n",
        "# Alternatively, create an empty set 's' using curly braces ({}).\n",
        "s = {}\n",
        "\n",
        "# Create a set 's1' containing elements 2, 4, and 5.\n",
        "s1 = {2, 4, 5}\n",
        "\n",
        "# Create another set 's2' containing elements 2, 6, and 9.\n",
        "s2 = {2, 6, 9}\n",
        "\n",
        "# Create a list 'l' containing repeated elements 2, 2, 2, 2, 4, and 5.\n",
        "l = [2, 2, 2, 2, 4, 5]\n",
        "\n",
        "# Convert the list 'l' to a set 's_to_l', removing duplicates.\n",
        "s_to_l = set(l)\n",
        "\n",
        "# Print the original list 'l'.\n",
        "print(l)  # Output: [2, 2, 2, 2, 4, 5]\n",
        "\n",
        "# Print the length of the original list 'l'.\n",
        "print(len(l))  # Output: 6\n",
        "\n",
        "# Print the set 's_to_l' containing unique elements from the list.\n",
        "print(s_to_l)  # Output: {2, 4, 5}\n",
        "\n",
        "# Print the length of the set 's_to_l'.\n",
        "print(len(s_to_l))  # Output: 3\n",
        "\n",
        "# Calculate the set difference between 's1' and 's2'.\n",
        "s1.difference(s2)\n",
        "\n",
        "# Calculate the intersection of sets 's1' and 's2'.\n",
        "s1.intersection(s2)\n",
        "\n",
        "# Calculate the union of sets 's1' and 's2'.\n",
        "s1.union(s2)\n"
      ],
      "metadata": {
        "id": "Z6TNTprkZYQ_"
      },
      "execution_count": null,
      "outputs": []
    },
    {
      "cell_type": "markdown",
      "source": [
        "# The methods"
      ],
      "metadata": {
        "id": "wSZI6ZaTXx0k"
      }
    },
    {
      "cell_type": "code",
      "source": [
        "# Create a new list 'new_list2' containing integers and a string.\n",
        "new_list2 = [1, 2, \"e\"]\n",
        "\n",
        "# Print the 'new_list2' to display its current contents.\n",
        "print(new_list2)\n",
        "\n",
        "# Add the item \"Hello\" to the end of the list using the 'append' method.\n",
        "new_list2.append(\"Hello\")\n",
        "print(new_list2)\n",
        "\n",
        "# Remove the last item added to the list using the 'pop' method.\n",
        "print(new_list2.pop())\n",
        "print(new_list2)\n",
        "\n",
        "# To find the index of a specific element, we use the 'index' method.\n",
        "# In this case, we want to find the position of \"e\".\n",
        "new_list2.index(\"e\")\n",
        "\n",
        "# To remove a specific element from the list, we use the 'remove' method.\n",
        "# Let's remove the integer 1 from the list.\n",
        "new_list2.remove(1)\n",
        "print(new_list2)\n"
      ],
      "metadata": {
        "id": "Lwk0dGGoX6Jg"
      },
      "execution_count": null,
      "outputs": []
    }
  ]
}